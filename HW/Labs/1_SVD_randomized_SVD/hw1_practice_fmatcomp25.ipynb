{
  "cells": [
    {
      "cell_type": "markdown",
      "metadata": {
        "id": "EHZ95zbl1N8g"
      },
      "source": [
        "# Практическое ДЗ 1. Удаление фона с помощью SVD"
      ]
    },
    {
      "cell_type": "markdown",
      "metadata": {
        "id": "_Jgf9n3c1N8s"
      },
      "source": [
        "В этой задаче мы познакомимся с одним из возможных приложений сингулярного разложения &mdash; удаление фона из видео.\n",
        "Для этого сначала загрузим видео, на котором есть движущиеся объекты и неизменный фон.\n",
        "\n",
        "\n",
        "**Замечание: далее пользоваться циклами запрещено, если это явно не прописано в задании. Вместо этого используйте функции numpy.**"
      ]
    },
    {
      "cell_type": "code",
      "source": [
        "%pip install -q moviepy --upgrade\n",
        "%pip install -q ffmpeg --upgrade"
      ],
      "metadata": {
        "id": "v7XbvZbl1h9q"
      },
      "execution_count": null,
      "outputs": []
    },
    {
      "cell_type": "code",
      "execution_count": null,
      "metadata": {
        "id": "0mE5lkP-1N8s"
      },
      "outputs": [],
      "source": [
        "import moviepy.editor as mpe\n",
        "video = mpe.VideoFileClip(\"data/SVD_video_1.mp4\")\n",
        "video.ipython_display(width=300, maxduration=250)"
      ]
    },
    {
      "cell_type": "markdown",
      "metadata": {
        "id": "JUFJ-jNv1N8t"
      },
      "source": [
        "Импортируем необходимые библиотеки и представим видео в виде трехмерного массива размеров `(#кадров) x (#пикселей по горизонтали) x (#пикселей по вертикали)`."
      ]
    },
    {
      "cell_type": "code",
      "execution_count": null,
      "metadata": {
        "id": "Rg-bWsHh1N8t"
      },
      "outputs": [],
      "source": [
        "import numpy as np\n",
        "import matplotlib.pyplot as plt\n",
        "%matplotlib inline"
      ]
    },
    {
      "cell_type": "code",
      "execution_count": null,
      "metadata": {
        "id": "YuuPX2bv1N8t"
      },
      "outputs": [],
      "source": [
        "video.fps"
      ]
    },
    {
      "cell_type": "code",
      "execution_count": null,
      "metadata": {
        "id": "XDQEd_zy1N8u"
      },
      "outputs": [],
      "source": [
        "def video_to_array(video):\n",
        "    duration = int(video.duration)\n",
        "    nframes = int(video.fps * video.duration)\n",
        "    size_h, size_w = video.size\n",
        "    arr = np.zeros([nframes, size_w, size_h])\n",
        "    for i in range(nframes):\n",
        "        arr[i, :, :] = video.get_frame(i/nframes * duration)[:, :, 0].astype(float)\n",
        "    print('image size: {1:} x {2:}, \\nnumber of frames: {0:}'.format(nframes, size_w, size_h))\n",
        "    return arr"
      ]
    },
    {
      "cell_type": "code",
      "execution_count": null,
      "metadata": {
        "id": "pjKe4j1g1N8u"
      },
      "outputs": [],
      "source": [
        "arr = video_to_array(video)\n",
        "plt.imshow(arr[0, :, :], cmap='gray')\n",
        "plt.title('The first frame of the video');"
      ]
    },
    {
      "cell_type": "markdown",
      "metadata": {
        "id": "WqLIUVfC1N8u"
      },
      "source": [
        "### a. Применение базового алгоритма SVD (30 баллов)\n",
        "\n",
        "1. **(10 балла)** С помощью функции ```np.reshape(...)``` получите из трехмерного массива ```arr``` двумерный массив ```M``` размера ```(size_h * size_w) x nframes```, каждым столбцом которого является изображение размера ```size_h x size_w```, представленное в виде вектора с ```size_h * size_w``` элементами."
      ]
    },
    {
      "cell_type": "code",
      "execution_count": null,
      "metadata": {
        "id": "G4nN9wTM1N8u"
      },
      "outputs": [],
      "source": [
        "nframes, size_w, size_h = arr.shape\n",
        "M = # YOUR CODE GOES HERE\n",
        "\n",
        "plt.figure(figsize=(10, 10))\n",
        "plt.imshow(M, cmap='gray');"
      ]
    },
    {
      "cell_type": "markdown",
      "source": [
        "Если всё сделано правильно, то вы сможете восстановить первый кадр из первого столбца:"
      ],
      "metadata": {
        "id": "ToRDUCRt3mQk"
      }
    },
    {
      "cell_type": "code",
      "source": [
        "first_frame = M[:,0].reshape(...) # TO BE FILLED\n",
        "plt.imshow(first_frame, cmap='gray')\n",
        "plt.title('The first frame of the video');"
      ],
      "metadata": {
        "id": "kvK7yjaI3yI_"
      },
      "execution_count": null,
      "outputs": []
    },
    {
      "cell_type": "markdown",
      "metadata": {
        "id": "KJv-Ltip1N8u"
      },
      "source": [
        "2. **(6 баллов)** Вычислите сингулярное разложение матрицы ```M``` с помощью ```np.linalg.svd(..., full_matrices=False)``` (параметр ```full_matrices``` отвечает за размеры матрицы $U$ и $V$ из SVD и позволяет заметно экономить место для прямоугольных матриц). Постройте график сингулярных чисел, отсортированных по убыванию и поделенных на старшее сингулярное число. Шкала с сингулярными числами должна быть логарифмической. Для этого, например, используйте функцию ```plt.semilogy```. Объясните, почему наибольшее и несколько наименьших (близких к 0) сингулярных число заметно отличается от остальных. \n",
        "\n",
        "**Замечание:** При построении графиков величин с отличающимися на порядки значениями полезно использовать логарифмическую шкалу. Чтобы убедиться в этом, попробуйте построить график не в логарифмической шкале; из него будет фактически невозможно понять характер убывания сингулярных чисел. Не забывайте подписывать оси!"
      ]
    },
    {
      "cell_type": "code",
      "execution_count": null,
      "metadata": {
        "id": "9KQ_iSO61N8v"
      },
      "outputs": [],
      "source": [
        "# YOUR CODE GOES HERE"
      ]
    },
    {
      "cell_type": "markdown",
      "metadata": {
        "id": "fqsUTR1-1N8v"
      },
      "source": [
        "3. **(10 баллов)** Напишите функцию ```trunc_svd(M, r)```, которая считает оптимальное приближение $M_{r}$ двумерного массива $M$ заданного ранга, а также **относительную** точность этого приближения в фробениусовой норме, т.е. $$\n",
        "\\frac{\\|M - M_{r}\\|_F}{\\|M\\|_F}.\n",
        "$$\n",
        "Для расчета относительной точности используйте **только** сингулярные числа матрицы $M$. "
      ]
    },
    {
      "cell_type": "code",
      "execution_count": null,
      "metadata": {
        "id": "fHjTNw2d1N8v"
      },
      "outputs": [],
      "source": [
        "def trunc_svd(M, r):\n",
        "    '''\n",
        "        Input\n",
        "            M: 2D numpy array\n",
        "            r: rank value for truncation\n",
        "            \n",
        "        Output\n",
        "            Mr: 2D numpy array of the same size as M\n",
        "            rel_eps: relative error of rank-r approximation Mr\n",
        "    '''\n",
        "    raise NotImplementedError()"
      ]
    },
    {
      "cell_type": "markdown",
      "metadata": {
        "id": "YqoRGTQD1N8w"
      },
      "source": [
        "4. **(4 балла)** Используя написанную функцию, найдите наилучшее приближение матрицы ```M``` матрицей ```M_svd``` ранга 1. С помощью ```plt.imshow(..., cmap='gray')``` постройте изображения первого кадра\n",
        "    - исходного видео\n",
        "    - фона (полученного из приближения ранга 1)\n",
        "    - изображения людей (полученного с помощью изображений из предыдущих двух подпунктов)"
      ]
    },
    {
      "cell_type": "code",
      "execution_count": null,
      "metadata": {
        "id": "0IYIyTwZ1N8w"
      },
      "outputs": [],
      "source": [
        "# YOUR CODE GOES HERE"
      ]
    },
    {
      "cell_type": "code",
      "execution_count": null,
      "metadata": {
        "id": "jroQsfZT1N8w"
      },
      "outputs": [],
      "source": [
        "_, axs = plt.subplots(1,3, figsize=(15,10))\n",
        "axs[0].imshow(..., cmap='gray') # TO BE FILLED\n",
        "axs[0].set_title(\"Исходное изображение\")\n",
        "axs[1].imshow(..., cmap='gray') # TO BE FILLED\n",
        "axs[1].set_title(\"Фон\")\n",
        "axs[2].imshow(..., cmap='gray') # TO BE FILLED\n",
        "axs[2].set_title(\"Движущиеся объекты\");"
      ]
    },
    {
      "cell_type": "markdown",
      "metadata": {
        "id": "h9iARAFC1N8x"
      },
      "source": [
        "### b. Применение рандомизированного алгоритма SVD (28 баллов)"
      ]
    },
    {
      "cell_type": "markdown",
      "metadata": {
        "id": "MUsXYVgY1N8x"
      },
      "source": [
        "Загрузим теперь видео в более высоком разрешении."
      ]
    },
    {
      "cell_type": "code",
      "execution_count": null,
      "metadata": {
        "id": "8o8opXkN1N8x"
      },
      "outputs": [],
      "source": [
        "import moviepy.editor as mpe\n",
        "video3 = mpe.VideoFileClip(\"data/SVD_video_3.mp4\", target_resolution=(100, 178))\n",
        "video3.ipython_display(width=300, maxduration=250)\n",
        "arr = video_to_array(video3)"
      ]
    },
    {
      "cell_type": "code",
      "execution_count": null,
      "metadata": {
        "id": "h6zZCSTF1N8x"
      },
      "outputs": [],
      "source": [
        "arr3 = video_to_array(video3)\n",
        "nframes, size_w, size_h = arr3.shape\n",
        "M3 = ... # TO BE FILLED"
      ]
    },
    {
      "cell_type": "markdown",
      "metadata": {
        "id": "n-I7WntH1N8x"
      },
      "source": [
        "Использование функции ```np.linalg.svd``` является эффективным для относительно небольших массивов из-за быстрого роста сложности алгоритма в зависимости от размера матрицы. Используем рандомизированный алгоритм из лекций для ускорения вычислений (есть также [пост](https://gregorygundersen.com/blog/2019/01/17/randomized-svd/) с описанием алгоритма)."
      ]
    },
    {
      "cell_type": "markdown",
      "metadata": {
        "id": "hOJksCIr1N8z"
      },
      "source": [
        "1. **(16 баллов)** Реализуйте рандомизированный алгоритм SVD из лекций, который аппроксимирует матрицу с заданным рангом $r$ (алгоритм запускается с ```r + oversampling``` случайных векторов, после чего ранг обрезается до ```r``` с наименьшей ошибкой). Убедитесь, что вы не вычисляете в явном виде матрицу $QQ^\\top$. Если на заданной матрице алгоритм работает слишком долго (минуты), то возможно, вы что-то делаете не так."
      ]
    },
    {
      "cell_type": "code",
      "execution_count": null,
      "metadata": {
        "id": "XNMABrTz1N8z"
      },
      "outputs": [],
      "source": [
        "def rand_svd(M, r, oversampling=10):\n",
        "    '''\n",
        "        Input\n",
        "            M: 2D numpy array\n",
        "            r: rank value for truncation\n",
        "            oversampling: number of extra random vectors to approximate range(M)\n",
        "\n",
        "        Output\n",
        "            Mr: 2D numpy array of rank r and of the same size as M\n",
        "            rel_eps: relative error of rank-r approximation Mr\n",
        "    '''\n",
        "    raise NotImplementedError()"
      ]
    },
    {
      "cell_type": "markdown",
      "metadata": {
        "id": "mVVrUZ5K1N8z"
      },
      "source": [
        "2. **(2 балл)** Используя ```rand_svd```, найдите наилучшее приближение матрицы ```M``` матрицей ```M_rand``` ранга 1. С помощью ```plt.imshow(..., cmap='gray')``` постройте изображения первого кадра\n",
        "    - исходного видео\n",
        "    - фона (полученного из приближения ранга 1)\n",
        "    - изображения людей (полученного с помощью изображений из предыдущих двух подпунктов)"
      ]
    },
    {
      "cell_type": "code",
      "source": [
        "# YOUR CODE GOES HERE"
      ],
      "metadata": {
        "id": "hM51iwv6RUqq"
      },
      "execution_count": null,
      "outputs": []
    },
    {
      "cell_type": "code",
      "execution_count": null,
      "metadata": {
        "id": "kxfwkmGX1N80"
      },
      "outputs": [],
      "source": [
        "_, axs = plt.subplots(1,3, figsize=(15,10))\n",
        "axs[0].imshow(..., cmap='gray') # TO BE FILLED\n",
        "axs[0].set_title(\"Исходное изображение\")\n",
        "axs[1].imshow(..., cmap='gray') # TO BE FILLED\n",
        "axs[1].set_title(\"Фон\")\n",
        "axs[2].imshow(..., cmap='gray') # TO BE FILLED\n",
        "axs[2].set_title(\"Движущиеся объекты\");"
      ]
    },
    {
      "cell_type": "markdown",
      "metadata": {
        "id": "fRpKMqcf1N80"
      },
      "source": [
        "3. **(10 баллов)** Постройте график функции\n",
        "$$\n",
        "\\frac{||M_{rand}(p) - M||_F}{||M||_F}\n",
        "$$\n",
        "при $r=2$ в зависимости от $p$ (```oversampling=p``` в функции ```rand_svd```). По $p$ выберите сетку $[0, 30]$ с шагом 2.\n",
        "Так как $M_{rand}(p)$ получено с помощью рандомизированного алгоритма, усредните Ваш результат, запустив алгоритм 10 раз.\n",
        "При построении графика используйте логарифмическую шкалу по оси с ошибкой.\n",
        "**В данном задании разрешается использовать циклы для перебора по сетке и запуска алгоритма 10 раз.**"
      ]
    },
    {
      "cell_type": "code",
      "execution_count": null,
      "metadata": {
        "id": "ND3seht11N80"
      },
      "outputs": [],
      "source": [
        "# YOUR CODE GOES HERE"
      ]
    },
    {
      "cell_type": "markdown",
      "metadata": {
        "id": "yS0Ykhz_1N80"
      },
      "source": [
        "**Замечание:** ```np.linalg.svd``` на этих размерах матриц и значенях рангов будет работать заметно медленнее (правда, с полностью контролируемой точностью), чем рандомизированный алгоритм. Также обратите внимание, что если не указать опцию ```full_matrices=False``` в ```np.linalg.svd```, то на данном примере может случиться переполнение по памяти. "
      ]
    },
    {
      "cell_type": "markdown",
      "metadata": {
        "id": "MyPL5HVk1N80"
      },
      "source": [
        "### c. Видео с переменным освещением (12 баллов)"
      ]
    },
    {
      "cell_type": "markdown",
      "metadata": {
        "id": "mmEdvHzY1N81"
      },
      "source": [
        "Загрузим теперь более интересное видео, в котором со временем меняется освещение (можно, к примеру, представить, что встаёт солнце)."
      ]
    },
    {
      "cell_type": "code",
      "execution_count": null,
      "metadata": {
        "id": "PTL2Vszs1N81"
      },
      "outputs": [],
      "source": [
        "video2 = mpe.VideoFileClip(\"data/SVD_video_2.mp4\")\n",
        "video2.ipython_display(width=300, maxduration=250)"
      ]
    },
    {
      "cell_type": "code",
      "execution_count": null,
      "metadata": {
        "id": "zGBN-SE21N81"
      },
      "outputs": [],
      "source": [
        "arr2 = video_to_array(video2)"
      ]
    },
    {
      "cell_type": "markdown",
      "source": [
        "Пока что возьмём лишь первые 80% видео, остальной частью воспользуемся позже."
      ],
      "metadata": {
        "id": "byEQjypCu695"
      }
    },
    {
      "cell_type": "code",
      "source": [
        "breakpoint = round(0.8*arr2.shape[0])\n",
        "remaining = arr2[breakpoint:]\n",
        "arr2 = arr2[:breakpoint]"
      ],
      "metadata": {
        "id": "yf9U-r7Eu6e9"
      },
      "execution_count": null,
      "outputs": []
    },
    {
      "cell_type": "markdown",
      "metadata": {
        "id": "3ras50RZ1N83"
      },
      "source": [
        "1. Аналогично пункту a.1) получите из трехмерного массива ```arr2``` двумерный массив ```M2``` размера ```(size_h * size_w) x nframes2```."
      ]
    },
    {
      "cell_type": "code",
      "execution_count": null,
      "metadata": {
        "id": "dn7cxPD01N84"
      },
      "outputs": [],
      "source": [
        "nframes2, size_w, size_h = arr2.shape\n",
        "M2 = # YOUR CODE GOES HERE\n",
        "\n",
        "plt.figure(figsize=(10, 10))\n",
        "plt.imshow(M2, cmap='gray');"
      ]
    },
    {
      "cell_type": "markdown",
      "metadata": {
        "id": "IhuFTt1-1N84"
      },
      "source": [
        "2. **(3 балла)** Примените методы из пунктов a) и b) (то есть библиотечное полное SVD и рандомизированное SVD) для получения наилучшего приближения ранга 2 (чтобы также учесть изменение освещения) для матрицы `M2`. Сравните время работы алгоритмов."
      ]
    },
    {
      "cell_type": "code",
      "execution_count": null,
      "metadata": {
        "id": "9esAkWb51N84"
      },
      "outputs": [],
      "source": [
        "M2_svd = # YOUR CODE GOES HERE\n",
        "M2_rand = # YOUR CODE GOES HERE"
      ]
    },
    {
      "cell_type": "markdown",
      "metadata": {
        "id": "jKqSk2RE1N84"
      },
      "source": [
        "3. **(4 балла)** Cравните относительные точности таких приближений для настоящего SVD и рандомизированного алгоритма; также сравните их с соответствующей величиной для видео с постоянным освещением. Какие выводы можно сделать?"
      ]
    },
    {
      "cell_type": "code",
      "execution_count": null,
      "metadata": {
        "id": "PM9mBYom1N84"
      },
      "outputs": [],
      "source": [
        "# YOUR CODE GOES HERE"
      ]
    },
    {
      "cell_type": "markdown",
      "metadata": {
        "id": "gPMCZF7u1N85"
      },
      "source": [
        "4. **(5 балла)** Заполните пропуски в функции `M_to_video`, преобразующей матрицу типа ```M2``` обратно в видео."
      ]
    },
    {
      "cell_type": "code",
      "execution_count": null,
      "metadata": {
        "id": "r3Y8wPCA1N85"
      },
      "outputs": [],
      "source": [
        "def M_to_video(M, fps, size_w, size_h):\n",
        "    nframes = M.shape[1]\n",
        "    arr = # YOUR CODE GOES HERE\n",
        "    def make_frame(t):\n",
        "        index = int(t * fps)\n",
        "        frame = arr[index, :, :]\n",
        "        frame = np.clip(frame, 0, 255)\n",
        "        frame_rgb = frame[:, :, np.newaxis][:, :, [0,0,0]]\n",
        "        return frame_rgb\n",
        "    return mpe.VideoClip(make_frame, duration=nframes / fps)"
      ]
    },
    {
      "cell_type": "markdown",
      "metadata": {
        "id": "u3NHeJaJ1N85"
      },
      "source": [
        "Посмотрим, как выглядит предлагаемое приближение."
      ]
    },
    {
      "cell_type": "code",
      "execution_count": null,
      "metadata": {
        "id": "kfjKGInl1N85"
      },
      "outputs": [],
      "source": [
        "video2_svd = M_to_video(M2_svd - M2, 20, size_w, size_h)\n",
        "video2_svd.ipython_display(width=300, maxduration=250, fps=20)"
      ]
    },
    {
      "cell_type": "markdown",
      "metadata": {
        "id": "m_eaU2EU1N85"
      },
      "source": [
        "Для большей наглядности можете также запустить видео из пункта b) с более высоким разрешением."
      ]
    },
    {
      "cell_type": "markdown",
      "source": [
        "### d. Обработка новых кадров (25 баллов)"
      ],
      "metadata": {
        "id": "REjxQHZ2rf0R"
      }
    },
    {
      "cell_type": "markdown",
      "source": [
        "Предположим, что на камеру поступил новый поток кадров. Мы могли бы увеличить нашу матрицу M2 и пересчитать SVD, но это слишком вычислительно сложно ради нескольких новых кадров. Более того, логично предположить, что если у нас уже было достаточно много кадров в матрице M2, то сингулярные векторы не изменятся сильно от добавления новых кадров.\n",
        "\n",
        "При этом просто вычесть фон не получится, ведь мы хотим также учитывать изменение освещения. Для этого посчитаем ортогональную проекцию нового кадра на образ матрицы M2.\n",
        "\n",
        "\n"
      ],
      "metadata": {
        "id": "NvG6CJ9zhaKG"
      }
    },
    {
      "cell_type": "markdown",
      "source": [
        "1. **(15 баллов)** Используя SVD разложение ортогонально спроецируйте новый кадр на образ матрицы M2.\n",
        "\n",
        "Ваш код должен работать как для 1 кадра (вектора длины size_h * size_w), так и для нескольких (матрицы размера (size_h * size_w) x k). Сложность итогового алгоритма для обработки 1 кадра должна быть O(size_h * size_w). SVD матрицы M2 считайте предпосчитанным. "
      ],
      "metadata": {
        "id": "o_EWjjhyhaXf"
      }
    },
    {
      "cell_type": "code",
      "source": [
        "new_frame = remaining[-1].reshape(size_w*size_h)\n",
        "plt.imshow(new_frame.reshape(size_w, size_h), cmap='gray');"
      ],
      "metadata": {
        "id": "NLl4SFbzULO8"
      },
      "execution_count": null,
      "outputs": []
    },
    {
      "cell_type": "code",
      "source": [
        "# YOUR CODE GOES HERE (duplicate code from trunc_SVD)\n",
        "U_2 = ...\n",
        "S_2 = ...\n",
        "VT_2  = ..."
      ],
      "metadata": {
        "id": "MBddSpxLUJj8"
      },
      "execution_count": null,
      "outputs": []
    },
    {
      "cell_type": "code",
      "source": [
        "def project_new_frames(U, S, VT, new_frames):\n",
        "    '''\n",
        "        Input\n",
        "            U, S, VT: rank r compact SVD of matrix M2 (U @ S @ VT = M2_r)\n",
        "            new_frames:  vector (size_h * size_w,) or matrix (size_h * size_w x nframes)\n",
        "\n",
        "        Output\n",
        "            proj: projection of new frames to Im(M2_r)\n",
        "    '''\n",
        "    raise NotImplementedError()"
      ],
      "metadata": {
        "id": "1ltr5fVwVkqn"
      },
      "execution_count": null,
      "outputs": []
    },
    {
      "cell_type": "code",
      "source": [
        "new_frame_proj = project_new_frames(U_2, S_2, VT_2, new_frame)\n",
        "\n",
        "_, axs = plt.subplots(1,3, figsize=(15,10))\n",
        "axs[0].imshow(new_frame.reshape(size_w, size_h), cmap='gray')\n",
        "axs[0].set_title(\"Исходное изображение\")\n",
        "axs[1].imshow(..., cmap='gray') # TO BE FILLED\n",
        "axs[1].set_title(\"Фон\")\n",
        "axs[2].imshow(..., cmap='gray') # TO BE FILLED\n",
        "axs[2].set_title(\"Движущиеся объекты\");"
      ],
      "metadata": {
        "id": "p3eUu25zViws"
      },
      "execution_count": null,
      "outputs": []
    },
    {
      "cell_type": "markdown",
      "source": [
        "2. **(5 баллов)** Используя [np.concatenate](https://numpy.org/doc/stable/reference/generated/numpy.concatenate.html) добавьте кадры из remaining к столбцам M2, чтобы получить матрицу полного видео M_full. Аналогично преобразуйте трехмерный массив remaining в матрицу формате (size_h * size_w x remaining_nframes). Спроецируйте все кадры (столбцы) этой матрицы и преобразуйте матрицу обратно в видео.\n"
      ],
      "metadata": {
        "id": "VXJ_d0vWWV_Q"
      }
    },
    {
      "cell_type": "code",
      "source": [
        "remaining_nframes, size_w, size_h = remaining.shape\n",
        "M_remaining = ... # YOUR CODE GOES HERE\n",
        "M_full = ... # YOUR CODE GOES HERE"
      ],
      "metadata": {
        "id": "XlJLkh7JXPsm"
      },
      "execution_count": null,
      "outputs": []
    },
    {
      "cell_type": "code",
      "source": [
        "M_proj = project_new_frames(U_2, S_2, VT_2, M_full)\n",
        "\n",
        "video2_svd = M_to_video(M_full - M_proj, 20, size_w, size_h)\n",
        "video2_svd.ipython_display(width=300, maxduration=250, fps=20)"
      ],
      "metadata": {
        "id": "-A7i2LkvWWfD"
      },
      "execution_count": null,
      "outputs": []
    },
    {
      "cell_type": "markdown",
      "source": [
        "3. **(2 балла)** Как говорилось выше, можно сэкономить много ресурсов с помощью рандомизированного SVD алгоритма. Рассмотрите аналогичную ортопроекцию с помощью рандомизированного SVD разложения."
      ],
      "metadata": {
        "id": "3MRlSZ22WY8M"
      }
    },
    {
      "cell_type": "code",
      "source": [
        "r = 2\n",
        "oversampling = 10\n",
        "\n",
        "# YOUR CODE GOES HERE (duplicate code from rand_SVD)\n",
        "U_2_rand = ...\n",
        "S_2_rand = ...\n",
        "VT_2_rand = ..."
      ],
      "metadata": {
        "id": "XOkGxOaqWYG6"
      },
      "execution_count": null,
      "outputs": []
    },
    {
      "cell_type": "code",
      "source": [
        "M_proj_rand = project_new_frames(U_2_rand, S_2_rand, VT_2_rand, M_full)\n",
        "\n",
        "video2_svd = M_to_video(M_full - M_proj_rand, 20, size_w, size_h)\n",
        "video2_svd.ipython_display(width=300, maxduration=250, fps=20)"
      ],
      "metadata": {
        "id": "799sRxU1fQ6n"
      },
      "execution_count": null,
      "outputs": []
    },
    {
      "cell_type": "markdown",
      "source": [
        "4. **(3 балла)** Найдите $M_{\\text{true}}$ - лучшее приближение 2 ранга матрицы M2_full с помощью честного SVD (аналогично заданию c). Посчитайте относительные точности приближений из пунктов 2 и 3; сравните качество видео. Какие выводы можно сделать по качеству видео и итоговым ошибкам?\n",
        "\n",
        "$$\n",
        "    \\dfrac{\\| M_{\\text{true}} - M_{\\text{proj}} \\|_F}{\\| M_{\\text{true}} \\|_{F}};\\quad \n",
        "    \\dfrac{\\| M_{\\text{true}} - M_{\\text{proj rand}} \\|_F}{\\| M_{\\text{true}} \\|_{F}}\n",
        "$$"
      ],
      "metadata": {
        "id": "evV4MbHTWbSZ"
      }
    },
    {
      "cell_type": "code",
      "source": [
        "M_true = trunc_svd(M_full, 2)[0]\n",
        "\n",
        "video2_svd = M_to_video(M_full - M_true, 20, size_w, size_h)\n",
        "video2_svd.ipython_display(width=300, maxduration=250, fps=20)"
      ],
      "metadata": {
        "id": "9qyhjnvAfZcx"
      },
      "execution_count": null,
      "outputs": []
    },
    {
      "cell_type": "code",
      "source": [
        "# YOUR CODE GOES HERE"
      ],
      "metadata": {
        "id": "M2AGnI55WYiq"
      },
      "execution_count": null,
      "outputs": []
    },
    {
      "cell_type": "markdown",
      "source": [
        "**Выводы:**"
      ],
      "metadata": {
        "id": "9Qqdyu9JiFNB"
      }
    },
    {
      "cell_type": "markdown",
      "metadata": {
        "id": "FZaH0cxm1N85"
      },
      "source": [
        "### e. Robust PCA (5 баллов)"
      ]
    },
    {
      "cell_type": "markdown",
      "metadata": {
        "id": "5ec0QOCN1N86"
      },
      "source": [
        "Заметим, что матрицу $M$ можно приближенно представить в виде $M = L + S$, где $L$ - малоранговая матрица, а $S$ - разреженная (то есть содержащая большое количество нулей). Для поиска $L$ и $S$ мы могли бы попытаться решить задачу\n",
        "\n",
        "$$\n",
        "    \\mathrm{rank}(L) + \\alpha\\ \\mathrm{nnz}(S) \\to \\min_{L,S}, \\quad \\alpha > 0\n",
        "$$\n",
        "\n",
        "при ограничении $M = L + S$, где $\\mathrm{nnz}(S)$ обозначет число ненулевых элементов (<b>n</b>umber of <b>n</b>on<b>z</b>eros). \n",
        "Однако такую задачу решать крайне сложно из-за отсутствия непрерывности и выпуклости. \n",
        "Поэтому обычно ее [заменяют на более простую](https://arxiv.org/pdf/0912.3599.pdf):\n",
        "\n",
        "$$\n",
        "    \\|L\\|_* + \\alpha \\|S\\|_{\\mathrm{sum}} \\to \\min_{L, S}, \\quad \\alpha > 0,\n",
        "$$\n",
        "\n",
        "где $\\|\\cdot\\|_*$ обозначает ядерную норму матрицы, а $\\|\\cdot\\|_{\\mathrm{sum}}$ является суммой модулей всех элементов матрицы ($\\ell_1$-норма)."
      ]
    },
    {
      "cell_type": "markdown",
      "metadata": {
        "id": "lIamtfgn1N86"
      },
      "source": [
        "Для вычисления robust PCA скачаем код по ссылке [https://github.com/dganguli/robust-pca](https://github.com/dganguli/robust-pca) и импортируем его:"
      ]
    },
    {
      "cell_type": "code",
      "execution_count": null,
      "metadata": {
        "id": "qz-u6uJq1N86"
      },
      "outputs": [],
      "source": [
        "# Если вы работаете на windows - скачивайте самостоятельно\n",
        "!wget https://raw.githubusercontent.com/dganguli/robust-pca/master/r_pca.py\n",
        "import r_pca"
      ]
    },
    {
      "cell_type": "markdown",
      "metadata": {
        "id": "JrnV-q5m1N86"
      },
      "source": [
        "Мы использовали класс ```R_pca``` и запустили функцию ```fit(max_iter=4000, iter_print=100)``` для нахождения матриц $L$ и $S$ по матрице $M$ из пункта a).\n",
        "\n",
        "1. **(5 баллов)** С помощью ```plt.imshow(..., cmap='gray')``` постройте изображения первого кадра\n",
        "    - исходного видео,\n",
        "    - фона,\n",
        "    - изображения людей.\n",
        "\n",
        "Обратите внимание, что на исходных данных метод может работать довольно долго (вероятно, часы). Поэтому предлагается взять только четверть временного ряда, а также вырезать каждый второй кадр. Используйте видео с низким разрешением из пункта a)."
      ]
    },
    {
      "cell_type": "code",
      "execution_count": null,
      "metadata": {
        "id": "dvdY7STG1N86"
      },
      "outputs": [],
      "source": [
        "Mt = M[:,:M.shape[1]//4:2]\n",
        "solver = r_pca.R_pca(Mt, mu=0.68) # в нашем случае такой mu работает лучше исходного\n",
        "L, S = solver.fit(max_iter=4000, iter_print=100)\n",
        "\n",
        "_, axs = plt.subplots(1,3, figsize=(15,10))\n",
        "axs[0].imshow(..., cmap='gray') # TO BE FILLED\n",
        "axs[0].set_title(\"Исходное изображение\")\n",
        "axs[1].imshow(..., cmap='gray') # TO BE FILLED\n",
        "axs[1].set_title(\"Фон\")\n",
        "axs[2].imshow(..., cmap='gray') # TO BE FILLED\n",
        "axs[2].set_title(\"Движущиеся объекты\");"
      ]
    },
    {
      "cell_type": "markdown",
      "source": [
        "Аналогично можно посмотреть на видео движущихся объектов:"
      ],
      "metadata": {
        "id": "pParSiBbUEpQ"
      }
    },
    {
      "cell_type": "code",
      "source": [
        "video_rpca = M_to_video(..., 20, size_w, size_h) # TO BE FILLED\n",
        "video_rpca.ipython_display(width=300, maxduration=250, fps=20)"
      ],
      "metadata": {
        "id": "RE5A-LCGT10K"
      },
      "execution_count": null,
      "outputs": []
    },
    {
      "cell_type": "markdown",
      "source": [
        "### f. Бонус\n",
        "\n",
        "В бонусной части мы познакомимся с более продвинутыми рандомизированными алгоритмами поиска сингулярного разложения. Условие заданий базируется на статье \n",
        "\n",
        "Halko, Nathan, Per-Gunnar Martinsson, and Joel A. Tropp. \"Finding structure with randomness: Probabilistic algorithms for constructing approximate matrix decompositions.\" SIAM review 53.2 (2011): 217-288.\n",
        "\n",
        "**Ссылка на статью**: http://users.cms.caltech.edu/~jtropp/papers/HMT11-Finding-Structure-SIREV.pdf\n",
        "\n",
        "1. **(50 б. баллов)** Докажите, что в точной арифметике результат, полученный при использовании Алгоритма 4.3 и 4.4 из статьи, указанной выше, совпадают. Все теоретические выкладки приведите в текущем файле с использованием Markdown или прикрепите качественное изображение рукописного текста."
      ],
      "metadata": {
        "id": "np4loLAP6heX"
      }
    },
    {
      "cell_type": "code",
      "source": [],
      "metadata": {
        "id": "Nyrzk2AJLjHr"
      },
      "execution_count": null,
      "outputs": []
    },
    {
      "cell_type": "markdown",
      "source": [
        "2. **(50 б. баллов)** Реализуйте Алгоритм 4.4 и используйте его для построения приближенного сингулярного разложения матрицы A на матрице из этой ДЗ. Зафиксируйте ранги $r=5, 20, 50$. Для каждого из этих значений на одном рисунке постройте график зависимости нормы (на выбор) разности полученного приближения и оптимального приближения (в выбранной норме) того же ранга от числа q."
      ],
      "metadata": {
        "id": "ZCZUrbcmLle0"
      }
    },
    {
      "cell_type": "code",
      "source": [],
      "metadata": {
        "id": "P950p0HCLk61"
      },
      "execution_count": null,
      "outputs": []
    }
  ],
  "metadata": {
    "kernelspec": {
      "display_name": "Python 3",
      "language": "python",
      "name": "python3"
    },
    "language_info": {
      "codemirror_mode": {
        "name": "ipython",
        "version": 3
      },
      "file_extension": ".py",
      "mimetype": "text/x-python",
      "name": "python",
      "nbconvert_exporter": "python",
      "pygments_lexer": "ipython3",
      "version": "3.9.1"
    },
    "colab": {
      "provenance": [],
      "collapsed_sections": [
        "WqLIUVfC1N8u",
        "h9iARAFC1N8x",
        "MyPL5HVk1N80",
        "FZaH0cxm1N85"
      ]
    }
  },
  "nbformat": 4,
  "nbformat_minor": 0
}