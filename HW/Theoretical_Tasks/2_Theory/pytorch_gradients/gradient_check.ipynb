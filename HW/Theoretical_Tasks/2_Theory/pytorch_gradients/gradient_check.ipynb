{
 "cells": [
  {
   "cell_type": "code",
   "execution_count": 95,
   "metadata": {},
   "outputs": [],
   "source": [
    "import torch\n",
    "import torch.linalg as L\n",
    "from torch.autograd.functional import jvp\n",
    "\n",
    "import numpy as np"
   ]
  },
  {
   "cell_type": "markdown",
   "metadata": {},
   "source": [
    "## 1\n",
    "$ f(x) = \\|A - xx^\\top\\|_F^2, \\quad A = A^\\top \\in \\mathbb{R}^{n \\times n}, \\quad x \\in \\mathbb{R}^n$ "
   ]
  },
  {
   "cell_type": "code",
   "execution_count": 96,
   "metadata": {},
   "outputs": [],
   "source": [
    "torch.manual_seed(0)\n",
    "\n",
    "x = torch.randn(5, requires_grad=True)\n",
    "A = torch.randn(5, 5)\n",
    "y = L.norm(A - torch.outer(x, x))**2\n",
    "\n",
    "y.backward()"
   ]
  },
  {
   "cell_type": "code",
   "execution_count": 97,
   "metadata": {},
   "outputs": [
    {
     "data": {
      "text/plain": [
       "True"
      ]
     },
     "execution_count": 97,
     "metadata": {},
     "output_type": "execute_result"
    }
   ],
   "source": [
    "x_grad = -2 * (A + A.T - 2 * torch.outer(x, x)) @ x\n",
    "torch.allclose(x_grad, x.grad)"
   ]
  },
  {
   "cell_type": "markdown",
   "metadata": {},
   "source": [
    "## 2\n",
    "$f(X) = \\text{Tr} \\left( (X^\\top X)^{-1} X^\\top A X \\right), \\quad X \\in \\mathbb{R}^{n \\times p}, \\quad \\text{rank}(X) = p, \\quad A = A^\\top$"
   ]
  },
  {
   "cell_type": "code",
   "execution_count": 98,
   "metadata": {},
   "outputs": [],
   "source": [
    "n = 4\n",
    "p = 3\n",
    "X = torch.randn(n, p, requires_grad=True)\n",
    "A = torch.randn(n, n)\n",
    "H = torch.randn_like(X)"
   ]
  },
  {
   "cell_type": "code",
   "execution_count": 99,
   "metadata": {},
   "outputs": [
    {
     "data": {
      "text/plain": [
       "True"
      ]
     },
     "execution_count": 99,
     "metadata": {},
     "output_type": "execute_result"
    }
   ],
   "source": [
    "torch.allclose(\n",
    "    jvp(func=lambda X: X.T @ X, inputs=X,v=H)[1],\n",
    "    H.T @ X + X.T @ H\n",
    ")"
   ]
  },
  {
   "cell_type": "code",
   "execution_count": 100,
   "metadata": {},
   "outputs": [
    {
     "data": {
      "text/plain": [
       "True"
      ]
     },
     "execution_count": 100,
     "metadata": {},
     "output_type": "execute_result"
    }
   ],
   "source": [
    "torch.allclose(\n",
    "    jvp(func=lambda X: X.T @ A @ X, inputs=X, v=H)[1],\n",
    "    H.T @ A @ X + X.T @ A @ H\n",
    ")"
   ]
  },
  {
   "cell_type": "code",
   "execution_count": 101,
   "metadata": {},
   "outputs": [
    {
     "data": {
      "text/plain": [
       "True"
      ]
     },
     "execution_count": 101,
     "metadata": {},
     "output_type": "execute_result"
    }
   ],
   "source": [
    "torch.allclose(\n",
    "    jvp(func=lambda X: L.inv(X.T @ X), inputs=X, v=H)[1],\n",
    "    -L.inv(X.T @ X) @ (H.T @ X + X.T @ H) @ L.inv(X.T @ X)\n",
    ")"
   ]
  },
  {
   "cell_type": "code",
   "execution_count": 102,
   "metadata": {},
   "outputs": [
    {
     "data": {
      "text/plain": [
       "True"
      ]
     },
     "execution_count": 102,
     "metadata": {},
     "output_type": "execute_result"
    }
   ],
   "source": [
    "torch.allclose(\n",
    "    jvp(func=lambda X: L.inv(X.T @ X) @ X.T @ A @ X, inputs=X, v=H)[1],\n",
    "    -L.inv(X.T @ X) @ (H.T @ X + X.T @ H) @ L.inv(X.T @ X) @ X.T @ A @ X + L.inv(X.T @ X) @ (H.T @ A @ X + X.T @ A @ H)\n",
    ")"
   ]
  },
  {
   "cell_type": "code",
   "execution_count": 103,
   "metadata": {},
   "outputs": [
    {
     "data": {
      "text/plain": [
       "True"
      ]
     },
     "execution_count": 103,
     "metadata": {},
     "output_type": "execute_result"
    }
   ],
   "source": [
    "torch.allclose(\n",
    "    jvp(func=lambda X: torch.trace(L.inv(X.T @ X) @ X.T @ A @ X), inputs=X, v=H)[1],\n",
    "    torch.trace((-(X @ L.inv(X.T @ X) @ X.T @ (A + A.T) @ X @ L.inv(X.T @ X)) + (A + A.T) @ X @ L.inv(X.T @ X)).T @ H)\n",
    ")"
   ]
  },
  {
   "cell_type": "code",
   "execution_count": 104,
   "metadata": {},
   "outputs": [
    {
     "data": {
      "text/plain": [
       "True"
      ]
     },
     "execution_count": 104,
     "metadata": {},
     "output_type": "execute_result"
    }
   ],
   "source": [
    "y = torch.trace(L.inv(X.T @ X) @ X.T @ A @ X)\n",
    "y.backward()\n",
    "\n",
    "torch.allclose(\n",
    "    X.grad,\n",
    "    -(X @ L.inv(X.T @ X) @ X.T @ (A + A.T) @ X @ L.inv(X.T @ X)) + (A + A.T) @ X @ L.inv(X.T @ X)\n",
    ")"
   ]
  },
  {
   "cell_type": "markdown",
   "metadata": {},
   "source": [
    "## 3\n",
    "$f(X) = \\text{Tr}(X \\odot X), \\quad X \\in \\mathbb{R}^{m \\times n}$"
   ]
  },
  {
   "cell_type": "code",
   "execution_count": 105,
   "metadata": {},
   "outputs": [],
   "source": [
    "m = 3\n",
    "n = 3\n",
    "X = torch.randn(m, n, requires_grad=True)\n",
    "H = torch.randn_like(X)"
   ]
  },
  {
   "cell_type": "code",
   "execution_count": 106,
   "metadata": {},
   "outputs": [
    {
     "data": {
      "text/plain": [
       "True"
      ]
     },
     "execution_count": 106,
     "metadata": {},
     "output_type": "execute_result"
    }
   ],
   "source": [
    "torch.allclose(\n",
    "    jvp(func=lambda X:torch.trace(X * X), inputs=X, v=H)[1],\n",
    "    2 * torch.trace(torch.diag(X.diag()).T @ torch.diag(H.diag()))\n",
    ")"
   ]
  },
  {
   "cell_type": "code",
   "execution_count": 107,
   "metadata": {},
   "outputs": [
    {
     "data": {
      "text/plain": [
       "True"
      ]
     },
     "execution_count": 107,
     "metadata": {},
     "output_type": "execute_result"
    }
   ],
   "source": [
    "y = torch.trace(X * X)\n",
    "y.backward()\n",
    "X.grad\n",
    "\n",
    "torch.allclose(\n",
    "    X.grad,\n",
    "    2 * torch.diag(X.diag())\n",
    ")"
   ]
  },
  {
   "cell_type": "markdown",
   "metadata": {},
   "source": [
    "## 4\n",
    "\n",
    "$f(X) = \\text{Tr}(X \\operatorname{diag}(X)), \\quad X \\in \\mathbb{R}^{n \\times n}, \\quad \\operatorname{diag}(X) = \\operatorname{diag}(x_{11}, \\dots, x_{nn})$"
   ]
  },
  {
   "cell_type": "code",
   "execution_count": 108,
   "metadata": {},
   "outputs": [
    {
     "data": {
      "text/plain": [
       "tensor([[-1.1149,  0.0000,  0.0000],\n",
       "        [ 0.0000, -1.4213,  0.0000],\n",
       "        [ 0.0000,  0.0000,  0.7594]])"
      ]
     },
     "execution_count": 108,
     "metadata": {},
     "output_type": "execute_result"
    }
   ],
   "source": [
    "m = 3\n",
    "n = 3\n",
    "X = torch.randn(m, n, requires_grad=True)\n",
    "H = torch.randn_like(X)\n",
    "\n",
    "y = torch.trace(X * torch.diag(X))\n",
    "\n",
    "y.backward()\n",
    "X.grad"
   ]
  },
  {
   "cell_type": "code",
   "execution_count": 109,
   "metadata": {},
   "outputs": [
    {
     "data": {
      "text/plain": [
       "True"
      ]
     },
     "execution_count": 109,
     "metadata": {},
     "output_type": "execute_result"
    }
   ],
   "source": [
    "torch.allclose(\n",
    "    jvp(func=lambda X: torch.trace(X * torch.diag(X)), inputs=X, v=H)[1],\n",
    "    torch.trace(H * torch.diag(X) + X * torch.diag(H))\n",
    ")"
   ]
  },
  {
   "cell_type": "code",
   "execution_count": 110,
   "metadata": {},
   "outputs": [
    {
     "data": {
      "text/plain": [
       "True"
      ]
     },
     "execution_count": 110,
     "metadata": {},
     "output_type": "execute_result"
    }
   ],
   "source": [
    "torch.allclose(\n",
    "    X.grad,\n",
    "    2 * torch.diag(X.diag())\n",
    ")"
   ]
  },
  {
   "cell_type": "code",
   "execution_count": 111,
   "metadata": {},
   "outputs": [
    {
     "data": {
      "text/plain": [
       "(tensor([[-1.1149,  0.0000,  0.0000],\n",
       "         [ 0.0000, -1.4213,  0.0000],\n",
       "         [ 0.0000,  0.0000,  0.7594]]),\n",
       " tensor([-0.5575, -0.7107,  0.3797], grad_fn=<DiagonalBackward0_copy>))"
      ]
     },
     "execution_count": 111,
     "metadata": {},
     "output_type": "execute_result"
    }
   ],
   "source": [
    "X.grad, torch.diag(X)"
   ]
  },
  {
   "cell_type": "markdown",
   "metadata": {},
   "source": [
    "## 5\n",
    "\n",
    "$ f(X) = a^\\top X^2 b, \\quad a, b \\in \\mathbb{R}^n, \\quad X \\in \\mathbb{R}^{n \\times n} $"
   ]
  },
  {
   "cell_type": "code",
   "execution_count": 112,
   "metadata": {},
   "outputs": [
    {
     "data": {
      "text/plain": [
       "True"
      ]
     },
     "execution_count": 112,
     "metadata": {},
     "output_type": "execute_result"
    }
   ],
   "source": [
    "n = 3\n",
    "X = torch.randn(n, n, requires_grad=True)\n",
    "a = torch.randn(n)\n",
    "b = torch.randn_like(a)\n",
    "H = torch.randn_like(X)\n",
    "\n",
    "y = torch.einsum('i,ij,j->', a, X @ X, b)\n",
    "\n",
    "y.backward()\n",
    "\n",
    "torch.allclose(\n",
    "    X.grad,\n",
    "    torch.outer(a, b) @ X.T + X.T @ torch.outer(a, b)\n",
    ")"
   ]
  },
  {
   "cell_type": "markdown",
   "metadata": {},
   "source": [
    "## 6\n",
    "\n",
    "$ f(X) = \\text{Tr}(I \\otimes X + X \\otimes I), \\quad X \\in \\mathbb{R}^{n \\times n}$ "
   ]
  },
  {
   "cell_type": "code",
   "execution_count": 113,
   "metadata": {},
   "outputs": [
    {
     "data": {
      "text/plain": [
       "True"
      ]
     },
     "execution_count": 113,
     "metadata": {},
     "output_type": "execute_result"
    }
   ],
   "source": [
    "n = 3\n",
    "X = torch.randn(n, n, requires_grad=True)\n",
    "I = torch.eye(n)\n",
    "H = torch.randn_like(X)\n",
    "\n",
    "y = torch.trace(torch.kron(I, X) + torch.kron(X, I))\n",
    "\n",
    "y.backward()\n",
    "\n",
    "torch.allclose(\n",
    "    X.grad,\n",
    "    2 * n * I\n",
    ")"
   ]
  },
  {
   "cell_type": "markdown",
   "metadata": {},
   "source": [
    "## 7\n",
    "\n",
    "$f(U) = F(W + UV^\\top), \\quad g(V) = F(W + UV^\\top), \\quad W \\in \\mathbb{R}^{m \\times n}, \\quad U \\in \\mathbb{R}^{m \\times r}, \\quad V \\in \\mathbb{R}^{n \\times r}$"
   ]
  },
  {
   "cell_type": "code",
   "execution_count": 114,
   "metadata": {},
   "outputs": [],
   "source": [
    "m = 4\n",
    "n = 3\n",
    "r = 2\n",
    "\n",
    "W = torch.randn(m, n)\n",
    "U = torch.randn(m, r, requires_grad=True)\n",
    "V = torch.randn(n, r, requires_grad=True)\n",
    "\n",
    "H = torch.randn_like(U)\n",
    "\n",
    "F = lambda X: torch.trace(2 * X**2 + torch.cos(X))\n",
    "\n",
    "X = W + U @ V.T\n",
    "X.retain_grad()\n",
    "y = F(X)\n",
    "\n",
    "y.backward()"
   ]
  },
  {
   "cell_type": "code",
   "execution_count": 115,
   "metadata": {},
   "outputs": [
    {
     "data": {
      "text/plain": [
       "True"
      ]
     },
     "execution_count": 115,
     "metadata": {},
     "output_type": "execute_result"
    }
   ],
   "source": [
    "torch.allclose(\n",
    "    U.grad,\n",
    "    X.grad @ V \n",
    ")"
   ]
  },
  {
   "cell_type": "code",
   "execution_count": 116,
   "metadata": {},
   "outputs": [
    {
     "data": {
      "text/plain": [
       "True"
      ]
     },
     "execution_count": 116,
     "metadata": {},
     "output_type": "execute_result"
    }
   ],
   "source": [
    "torch.allclose(\n",
    "    V.grad,\n",
    "    X.grad.T @ U\n",
    ")"
   ]
  },
  {
   "cell_type": "code",
   "execution_count": 117,
   "metadata": {},
   "outputs": [
    {
     "data": {
      "text/plain": [
       "tensor(True)"
      ]
     },
     "execution_count": 117,
     "metadata": {},
     "output_type": "execute_result"
    }
   ],
   "source": [
    "m1, m2, n1, n2 = 4, 3, 3, 2\n",
    "\n",
    "A = torch.tensor([[i + j for i in range(1, n1 * n2+1)] for j in range(1, m1 * m2+1)])\n",
    "B1 = torch.ones((m1, n1), dtype=int) #torch.tensor([[i + j for j in range(1, n1+1)] for i in range(1, m1+1)]) \n",
    "C1 = torch.tensor([[i + j for j in range(1, n2+1)] for i in range(1, m2+1)]) \n",
    "B2 = torch.tensor([[m2 * i + n2 * j for j in range(n1)] for i in range(m1)])\n",
    "C2 = torch.ones((m2, n2), dtype=int)\n",
    "\n",
    "torch.all(torch.kron(B1, C1) + torch.kron(B2, C2) == A)"
   ]
  },
  {
   "cell_type": "code",
   "execution_count": 118,
   "metadata": {},
   "outputs": [],
   "source": [
    "n = 25\n",
    "B = np.array(np.random.randn(n, n, n), order='F')\n",
    "U = np.array(np.random.randn(n, n), order='F')\n",
    "y1 = (np.kron(np.kron(U, U), U).T @ B.flatten('F'))\n",
    "y2 = np.einsum('abc,ia,jb,kc->ijk', B, U.T, U.T, U.T, optimize='optimal')"
   ]
  },
  {
   "cell_type": "code",
   "execution_count": 119,
   "metadata": {},
   "outputs": [
    {
     "data": {
      "text/plain": [
       "(15625,)"
      ]
     },
     "execution_count": 119,
     "metadata": {},
     "output_type": "execute_result"
    }
   ],
   "source": [
    "y1.shape"
   ]
  },
  {
   "cell_type": "code",
   "execution_count": 120,
   "metadata": {},
   "outputs": [
    {
     "data": {
      "text/plain": [
       "True"
      ]
     },
     "execution_count": 120,
     "metadata": {},
     "output_type": "execute_result"
    }
   ],
   "source": [
    "np.allclose(y1, y2.flatten(\"F\"))"
   ]
  },
  {
   "cell_type": "code",
   "execution_count": null,
   "metadata": {},
   "outputs": [
    {
     "name": "stdout",
     "output_type": "stream",
     "text": [
      "2.04 s ± 179 ms per loop (mean ± std. dev. of 7 runs, 1 loop each)\n"
     ]
    }
   ],
   "source": [
    "# %%timeit\n",
    "# (np.kron(np.kron(U, U), U).T @ B.flatten('F'))"
   ]
  },
  {
   "cell_type": "code",
   "execution_count": null,
   "metadata": {},
   "outputs": [
    {
     "name": "stdout",
     "output_type": "stream",
     "text": [
      "683 μs ± 58.6 μs per loop (mean ± std. dev. of 7 runs, 1,000 loops each)\n"
     ]
    }
   ],
   "source": [
    "# %%timeit\n",
    "# np.einsum('abc,ai,bj,ck->ijk', B, U, U, U, optimize='optimal').flatten(\"F\")"
   ]
  },
  {
   "cell_type": "code",
   "execution_count": 123,
   "metadata": {},
   "outputs": [],
   "source": [
    "n = 4\n",
    "X = np.random.randn(n, n, n)\n",
    "A = np.random.randn(n, n)\n",
    "A = A + A.T\n",
    "I = np.eye(n)\n",
    "B = np.einsum('abc,ia,jb,kc->ijk', X, A, I, I, optimize=\"optimal\") + \\\n",
    "    np.einsum('abc,ia,jb,kc->ijk', X, I, A, I, optimize=\"optimal\") + \\\n",
    "    np.einsum('abc,ia,jb,kc->ijk', X, I, I, A, optimize=\"optimal\")"
   ]
  },
  {
   "cell_type": "code",
   "execution_count": 124,
   "metadata": {},
   "outputs": [
    {
     "data": {
      "text/plain": [
       "(True, True)"
      ]
     },
     "execution_count": 124,
     "metadata": {},
     "output_type": "execute_result"
    }
   ],
   "source": [
    "d = np.random.randn(n)\n",
    "C = np.random.randn(n, n)\n",
    "np.allclose(C @ np.diag(d), C * d), np.allclose(np.diag(d) @ C, (C.T * d[None, :]).T)"
   ]
  },
  {
   "cell_type": "code",
   "execution_count": 125,
   "metadata": {},
   "outputs": [],
   "source": [
    "S, U = np.linalg.eigh(A)"
   ]
  },
  {
   "cell_type": "code",
   "execution_count": 126,
   "metadata": {},
   "outputs": [],
   "source": [
    "X1 = np.einsum('abc,ia,jb,kc->ijk', B, U.T, U.T, U.T, optimize='optimal')\n",
    "X2 = ((np.diagonal(np.kron(np.kron(I, I), np.diag(S)) + np.kron(np.kron(I, np.diag(S)), I) + np.kron(np.kron(np.diag(S), I), I))**-1) * X1.flatten(\"F\")).reshape(n, n, n, order=\"F\")\n",
    "X_found = np.einsum('abc,ia,jb,kc->ijk', X2, U, U, U, optimize='optimal')"
   ]
  },
  {
   "cell_type": "code",
   "execution_count": 127,
   "metadata": {},
   "outputs": [
    {
     "data": {
      "text/plain": [
       "True"
      ]
     },
     "execution_count": 127,
     "metadata": {},
     "output_type": "execute_result"
    }
   ],
   "source": [
    "np.allclose(X, X_found)"
   ]
  },
  {
   "cell_type": "code",
   "execution_count": 128,
   "metadata": {},
   "outputs": [
    {
     "data": {
      "text/plain": [
       "True"
      ]
     },
     "execution_count": 128,
     "metadata": {},
     "output_type": "execute_result"
    }
   ],
   "source": [
    "n = 100\n",
    "U = np.random.randn(n, n)\n",
    "B = np.random.randn(n, n)\n",
    "\n",
    "np.allclose(U @ B @ U.T, np.einsum('ab,ia,jb->ij', B, U, U))"
   ]
  },
  {
   "cell_type": "code",
   "execution_count": 129,
   "metadata": {},
   "outputs": [],
   "source": [
    "# %%timeit\n",
    "# U @ B @ U.T"
   ]
  },
  {
   "cell_type": "code",
   "execution_count": 130,
   "metadata": {},
   "outputs": [],
   "source": [
    "# %%timeit\n",
    "# np.einsum('ab,ia,jb->ij', B, U, U, optimize='optimal')"
   ]
  },
  {
   "cell_type": "code",
   "execution_count": 131,
   "metadata": {},
   "outputs": [],
   "source": [
    "m1, n1, m2, n2 = 3, 2, 2, 2\n",
    "\n",
    "A = np.random.randn(m1 * m2, n1 * n2)\n",
    "B = np.random.randn(m1, n1)\n",
    "C = np.random.randn(m2, n2)"
   ]
  },
  {
   "cell_type": "code",
   "execution_count": 132,
   "metadata": {},
   "outputs": [],
   "source": [
    "import itertools\n",
    "\n",
    "def perfect_shuffle(p, r):\n",
    "    return np.array(list(itertools.chain(*(range(i, p * r, r) for i in range(r)))))"
   ]
  },
  {
   "cell_type": "markdown",
   "metadata": {},
   "source": [
    "$\\mathcal{P}_{m1, m2} (B \\otimes C) \\mathcal{P}_{n1, n2}^\\top = (C \\otimes B)$"
   ]
  },
  {
   "cell_type": "code",
   "execution_count": 133,
   "metadata": {},
   "outputs": [
    {
     "data": {
      "text/plain": [
       "True"
      ]
     },
     "execution_count": 133,
     "metadata": {},
     "output_type": "execute_result"
    }
   ],
   "source": [
    "np.all(\n",
    "        np.kron(B, C)[perfect_shuffle(m1, m2), :][:, perfect_shuffle(n1, n2)] == \n",
    "        np.kron(C, B)\n",
    "    )"
   ]
  },
  {
   "cell_type": "code",
   "execution_count": 134,
   "metadata": {},
   "outputs": [
    {
     "data": {
      "text/plain": [
       "array([['11', '12', '13', '14'],\n",
       "       ['21', '22', '23', '24'],\n",
       "       ['31', '32', '33', '34'],\n",
       "       ['41', '42', '43', '44'],\n",
       "       ['51', '52', '53', '54'],\n",
       "       ['61', '62', '63', '64']], dtype='<U2')"
      ]
     },
     "execution_count": 134,
     "metadata": {},
     "output_type": "execute_result"
    }
   ],
   "source": [
    "M = np.array([[f\"{i}{j}\" for j in range(1, n1 * n2 + 1)] for i in range(1, m1 * m2 + 1)])\n",
    "M"
   ]
  },
  {
   "cell_type": "code",
   "execution_count": 135,
   "metadata": {},
   "outputs": [],
   "source": [
    "RM_1 = M.reshape(m1, n1, m2 * n2, order='C').transpose(0, 2, 1).reshape(m1, m2, n1, n2, order='C').transpose(0, 1, 3, 2).reshape(m1 * n1, m2 * n2, order='F')"
   ]
  },
  {
   "cell_type": "code",
   "execution_count": 136,
   "metadata": {},
   "outputs": [],
   "source": [
    "RM_2 = M.reshape(m2, m1, n2, n1, order='F').transpose(0, 2, 1, 3).reshape(m2 * n2, m1, n1, order='F').\\\n",
    "transpose(1, 2, 0).reshape(m1 * n1, m2 * n2, order='F')"
   ]
  },
  {
   "cell_type": "code",
   "execution_count": 137,
   "metadata": {},
   "outputs": [
    {
     "data": {
      "text/plain": [
       "True"
      ]
     },
     "execution_count": 137,
     "metadata": {},
     "output_type": "execute_result"
    }
   ],
   "source": [
    "np.all(RM_1 == RM_2)"
   ]
  }
 ],
 "metadata": {
  "kernelspec": {
   "display_name": "python312",
   "language": "python",
   "name": "python3"
  },
  "language_info": {
   "codemirror_mode": {
    "name": "ipython",
    "version": 3
   },
   "file_extension": ".py",
   "mimetype": "text/x-python",
   "name": "python",
   "nbconvert_exporter": "python",
   "pygments_lexer": "ipython3",
   "version": "3.12.5"
  }
 },
 "nbformat": 4,
 "nbformat_minor": 2
}
