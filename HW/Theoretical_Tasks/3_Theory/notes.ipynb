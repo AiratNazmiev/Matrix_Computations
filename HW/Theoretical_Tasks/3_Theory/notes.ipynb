{
 "cells": [
  {
   "cell_type": "code",
   "execution_count": 217,
   "metadata": {},
   "outputs": [],
   "source": [
    "import numpy as np\n",
    "import scipy as sp\n",
    "import sympy as sym\n",
    "import matplotlib.pyplot as plt"
   ]
  },
  {
   "cell_type": "code",
   "execution_count": 218,
   "metadata": {},
   "outputs": [
    {
     "data": {
      "image/png": "[encoded data removed]",
      "text/plain": [
       "<Figure size 640x480 with 1 Axes>"
      ]
     },
     "metadata": {},
     "output_type": "display_data"
    }
   ],
   "source": [
    "F = sp.linalg.dft(10)\n",
    "A = F @ F\n",
    "plt.figure()\n",
    "plt.imshow(np.abs(A))\n",
    "plt.tight_layout()"
   ]
  },
  {
   "cell_type": "code",
   "execution_count": 219,
   "metadata": {},
   "outputs": [
    {
     "data": {
      "text/plain": [
       "True"
      ]
     },
     "execution_count": 219,
     "metadata": {},
     "output_type": "execute_result"
    }
   ],
   "source": [
    "np.allclose(np.linalg.inv(A), 1/100 * A)"
   ]
  },
  {
   "cell_type": "code",
   "execution_count": 220,
   "metadata": {},
   "outputs": [],
   "source": [
    "A = np.random.randn(5, 3)"
   ]
  },
  {
   "cell_type": "code",
   "execution_count": 221,
   "metadata": {},
   "outputs": [],
   "source": [
    "e1 = np.zeros((A.shape[0]), dtype=np.float64)\n",
    "e1[0] = 1.\n",
    "v1 = A[:, 0] + np.sign(A[0, 0]) * np.linalg.norm(A[:, 0]) * e1\n",
    "v1 /= np.linalg.norm(v1)\n",
    "H1 = np.eye(A.shape[0]) - np.outer(2 * v1, v1.conj())\n",
    "A1 = H1 @ A"
   ]
  },
  {
   "cell_type": "code",
   "execution_count": 222,
   "metadata": {},
   "outputs": [],
   "source": [
    "e2 = np.zeros((A.shape[0] - 1), dtype=np.float64)\n",
    "e2[0] = 1.\n",
    "v2 = A1[1:, 1] + np.sign(A1[1, 1]) * np.linalg.norm(A1[1:, 1]) * e2\n",
    "v2 /= np.linalg.norm(v2)\n",
    "H2 = np.eye(A.shape[0]-1) - np.outer(2 * v2, v2.conj())\n",
    "A2 = np.zeros_like(A)\n",
    "A2[0, :] = A1[0, :]\n",
    "A2[1:, 1:] = H2 @ A1[1:, 1:]"
   ]
  },
  {
   "cell_type": "code",
   "execution_count": 223,
   "metadata": {},
   "outputs": [],
   "source": [
    "e3 = np.zeros((A.shape[0] - 2), dtype=np.float64)\n",
    "e3[0] = 1.\n",
    "v3 = A2[2:, 2] + np.sign(A2[2, 2]) * np.linalg.norm(A2[2:, 2]) * e3\n",
    "v3 /= np.linalg.norm(v3)\n",
    "H3 = np.eye(A.shape[0]-2) - np.outer(2 * v3, v3.conj())\n",
    "A3 = np.zeros_like(A)\n",
    "A3[0, :] = A2[0, :]\n",
    "A3[1, :] = A2[1, :]\n",
    "A3[2:, 2:] = H3 @ A2[2:, 2:]"
   ]
  },
  {
   "cell_type": "code",
   "execution_count": 224,
   "metadata": {},
   "outputs": [],
   "source": [
    "Q, R = np.linalg.qr(A)"
   ]
  },
  {
   "cell_type": "code",
   "execution_count": 225,
   "metadata": {},
   "outputs": [
    {
     "name": "stdout",
     "output_type": "stream",
     "text": [
      "[[1. 0. 0.]\n",
      " [0. 1. 0.]\n",
      " [0. 0. 1.]\n",
      " [0. 0. 0.]\n",
      " [0. 0. 0.]]\n",
      "[[ 1.          0.          0.        ]\n",
      " [ 0.          1.          0.        ]\n",
      " [ 0.          0.         -0.8353836 ]\n",
      " [ 0.          0.          0.37018766]\n",
      " [ 0.          0.          0.40631925]]\n",
      "[[ 1.          0.          0.        ]\n",
      " [ 0.         -0.59153019  0.25931698]\n",
      " [ 0.         -0.47767129 -0.75755393]\n",
      " [ 0.          0.27067109  0.3260857 ]\n",
      " [ 0.         -0.59047383  0.50252847]]\n",
      "[[-0.42629701 -0.3605088   0.70035367]\n",
      " [ 0.58114608 -0.44464053 -0.0260428 ]\n",
      " [-0.22583818 -0.53475382 -0.64666076]\n",
      " [ 0.48973424  0.39445562  0.08561182]\n",
      " [ 0.43554286 -0.48038663  0.28866415]]\n"
     ]
    }
   ],
   "source": [
    "Imn = np.zeros_like(A)\n",
    "Imn[:A.shape[1], :] = np.eye(A.shape[1])\n",
    "QT = Imn\n",
    "print(QT)\n",
    "QT[2:, 2:] = H3 @ QT[2:, 2:]\n",
    "print(QT)\n",
    "QT[1:, 1:] = H2 @ QT[1:, 1:]\n",
    "print(QT)\n",
    "QT = H1 @ QT\n",
    "print(QT)"
   ]
  },
  {
   "cell_type": "code",
   "execution_count": 226,
   "metadata": {},
   "outputs": [
    {
     "data": {
      "text/plain": [
       "array([[ 1.11022302e-16, -1.24900090e-16, -6.66133815e-16],\n",
       "       [ 0.00000000e+00, -2.22044605e-16,  0.00000000e+00],\n",
       "       [ 0.00000000e+00, -1.66533454e-16,  4.44089210e-16],\n",
       "       [ 0.00000000e+00,  1.11022302e-16,  0.00000000e+00],\n",
       "       [ 1.11022302e-16,  0.00000000e+00, -4.44089210e-16]])"
      ]
     },
     "execution_count": 226,
     "metadata": {},
     "output_type": "execute_result"
    }
   ],
   "source": [
    "A - QT @ A3[:3, :]"
   ]
  },
  {
   "cell_type": "code",
   "execution_count": 227,
   "metadata": {},
   "outputs": [
    {
     "data": {
      "image/png": "[encoded data removed]",
      "text/plain": [
       "<Figure size 640x480 with 1 Axes>"
      ]
     },
     "metadata": {},
     "output_type": "display_data"
    }
   ],
   "source": [
    "plt.figure()\n",
    "plt.imshow(np.abs(A3))\n",
    "plt.show()"
   ]
  },
  {
   "cell_type": "code",
   "execution_count": 228,
   "metadata": {},
   "outputs": [
    {
     "data": {
      "text/latex": [
       "$\\displaystyle 2 m n^{2} + 3 m n - \\frac{2 n^{3}}{3} - n^{2} + \\frac{2 n}{3}$"
      ],
      "text/plain": [
       "2*m*n**2 + 3*m*n - 2*n**3/3 - n**2 + 2*n/3"
      ]
     },
     "execution_count": 228,
     "metadata": {},
     "output_type": "execute_result"
    }
   ],
   "source": [
    "m, n, k = sym.symbols('m n k', integer=True, nonnegative=True)\n",
    "f = (4 * (m-k+1) * (n-k+1) - n + m).simplify()\n",
    "sum_f = sym.summation(f, (k, 1, n)).simplify()\n",
    "sum_f.expand()"
   ]
  },
  {
   "cell_type": "code",
   "execution_count": 229,
   "metadata": {},
   "outputs": [
    {
     "data": {
      "text/latex": [
       "$\\displaystyle 2 m n^{2} + 3 m n - \\frac{2 n^{3}}{3} - n^{2} + \\frac{2 n}{3}$"
      ],
      "text/plain": [
       "2*m*n**2 + 3*m*n - 2*n**3/3 - n**2 + 2*n/3"
      ]
     },
     "execution_count": 229,
     "metadata": {},
     "output_type": "execute_result"
    }
   ],
   "source": [
    "g = 4*(m-k+1)*(n-k+1)-n+m#(m-k+1) * (2*m-2*k-1)\n",
    "sum_f = sym.summation(g, (k, 1, n)).simplify()\n",
    "sum_f.expand()"
   ]
  },
  {
   "cell_type": "markdown",
   "metadata": {},
   "source": [
    "# 4"
   ]
  },
  {
   "cell_type": "code",
   "execution_count": 230,
   "metadata": {},
   "outputs": [],
   "source": [
    "import tensorly as tl"
   ]
  },
  {
   "cell_type": "code",
   "execution_count": 231,
   "metadata": {},
   "outputs": [],
   "source": [
    "n = 100\n",
    "np.random.seed(0)\n",
    "a = np.random.randn(n)\n",
    "b = np.random.randn(n)\n",
    "b -= a.T @ b / (a.T @ a) * a"
   ]
  },
  {
   "cell_type": "markdown",
   "metadata": {},
   "source": [
    "canonical decomposition"
   ]
  },
  {
   "cell_type": "code",
   "execution_count": 232,
   "metadata": {},
   "outputs": [],
   "source": [
    "A = np.einsum('i,j,k->ijk', a, a, a) + 2 * np.einsum('i,j,k->ijk', a, b, a) - np.einsum('i,j,k->ijk', a, b, b) "
   ]
  },
  {
   "cell_type": "code",
   "execution_count": 233,
   "metadata": {},
   "outputs": [],
   "source": [
    "cpd = tl.decomposition.CP(2, linesearch=True)\n",
    "w, f = cpd.fit_transform(A)"
   ]
  },
  {
   "cell_type": "code",
   "execution_count": 234,
   "metadata": {},
   "outputs": [
    {
     "data": {
      "text/plain": [
       "True"
      ]
     },
     "execution_count": 234,
     "metadata": {},
     "output_type": "execute_result"
    }
   ],
   "source": [
    "np.allclose(np.einsum('a,ia,ja,ka->ijk', w, f[0], f[1], f[2], optimize=True), A)"
   ]
  },
  {
   "cell_type": "code",
   "execution_count": 235,
   "metadata": {},
   "outputs": [
    {
     "data": {
      "text/plain": [
       "True"
      ]
     },
     "execution_count": 235,
     "metadata": {},
     "output_type": "execute_result"
    }
   ],
   "source": [
    "U = np.stack((a, a), axis=1)\n",
    "V = np.stack((a, b), axis=1)\n",
    "W = np.stack((a, 2*a-b), axis=1)\n",
    "A_cp = np.einsum('ia,ja,ka->ijk', U, V, W, optimize=True)\n",
    "np.allclose(A_cp, A)"
   ]
  },
  {
   "cell_type": "markdown",
   "metadata": {},
   "source": [
    "tucker decomposition"
   ]
  },
  {
   "cell_type": "code",
   "execution_count": 236,
   "metadata": {},
   "outputs": [],
   "source": [
    "U = a[:, None]\n",
    "V = np.stack((a, b), axis=1)\n",
    "W = np.stack((a, b), axis=1)\n",
    "G = np.array([\n",
    "    [\n",
    "        [1, 0], [2, -1]\n",
    "    ],\n",
    "], dtype=np.float64)"
   ]
  },
  {
   "cell_type": "code",
   "execution_count": 237,
   "metadata": {},
   "outputs": [
    {
     "data": {
      "text/plain": [
       "(100, 100, 100)"
      ]
     },
     "execution_count": 237,
     "metadata": {},
     "output_type": "execute_result"
    }
   ],
   "source": [
    "A.shape"
   ]
  },
  {
   "cell_type": "code",
   "execution_count": 238,
   "metadata": {},
   "outputs": [
    {
     "data": {
      "text/plain": [
       "(100, 4)"
      ]
     },
     "execution_count": 238,
     "metadata": {},
     "output_type": "execute_result"
    }
   ],
   "source": [
    "(U @ G.flatten('F').reshape(G.shape[0], -1)).shape"
   ]
  },
  {
   "cell_type": "code",
   "execution_count": 239,
   "metadata": {},
   "outputs": [
    {
     "data": {
      "text/plain": [
       "np.int64(4)"
      ]
     },
     "execution_count": 239,
     "metadata": {},
     "output_type": "execute_result"
    }
   ],
   "source": [
    "np.linalg.matrix_rank(np.kron(W, V))"
   ]
  },
  {
   "cell_type": "code",
   "execution_count": 240,
   "metadata": {},
   "outputs": [
    {
     "data": {
      "text/plain": [
       "array([[-1.77635684e-15,  8.88178420e-16, -8.88178420e-16, ...,\n",
       "         0.00000000e+00,  0.00000000e+00,  0.00000000e+00],\n",
       "       [-1.33226763e-15, -2.22044605e-16, -5.55111512e-17, ...,\n",
       "        -8.32667268e-17, -5.55111512e-17,  2.77555756e-17],\n",
       "       [-8.88178420e-16,  2.22044605e-16, -5.55111512e-16, ...,\n",
       "         1.66533454e-16, -3.33066907e-16,  5.55111512e-17],\n",
       "       ...,\n",
       "       [-3.55271368e-15, -4.44089210e-16, -2.22044605e-16, ...,\n",
       "         0.00000000e+00, -6.66133815e-16,  2.22044605e-16],\n",
       "       [-1.11022302e-16,  2.77555756e-17,  0.00000000e+00, ...,\n",
       "         1.38777878e-17, -2.77555756e-17,  2.77555756e-17],\n",
       "       [-8.88178420e-16, -2.22044605e-16, -1.11022302e-16, ...,\n",
       "         5.55111512e-17,  5.55111512e-17,  0.00000000e+00]])"
      ]
     },
     "execution_count": 240,
     "metadata": {},
     "output_type": "execute_result"
    }
   ],
   "source": [
    "(U @ G.flatten('F').reshape(G.shape[0], -1) @ np.kron(W, V).T) - A.reshape(A.shape[0], -1, order='F')"
   ]
  },
  {
   "cell_type": "code",
   "execution_count": 241,
   "metadata": {},
   "outputs": [
    {
     "data": {
      "text/plain": [
       "(10000, 4)"
      ]
     },
     "execution_count": 241,
     "metadata": {},
     "output_type": "execute_result"
    }
   ],
   "source": [
    "np.kron(W, V).shape"
   ]
  },
  {
   "cell_type": "code",
   "execution_count": 242,
   "metadata": {},
   "outputs": [
    {
     "data": {
      "text/plain": [
       "array([ 1.,  2.,  0., -1.])"
      ]
     },
     "execution_count": 242,
     "metadata": {},
     "output_type": "execute_result"
    }
   ],
   "source": [
    "G.flatten('F')"
   ]
  },
  {
   "cell_type": "code",
   "execution_count": 243,
   "metadata": {},
   "outputs": [
    {
     "data": {
      "text/plain": [
       "array([[ 1.,  0.],\n",
       "       [ 2., -1.]])"
      ]
     },
     "execution_count": 243,
     "metadata": {},
     "output_type": "execute_result"
    }
   ],
   "source": [
    "G.transpose(1, 0, 2).reshape(G.shape[1], -1, order='F')"
   ]
  },
  {
   "cell_type": "code",
   "execution_count": 244,
   "metadata": {},
   "outputs": [
    {
     "data": {
      "text/plain": [
       "True"
      ]
     },
     "execution_count": 244,
     "metadata": {},
     "output_type": "execute_result"
    }
   ],
   "source": [
    "np.allclose(V @ G.transpose(1, 0, 2).reshape(G.shape[1], -1, order='F') @ np.kron(W, U).T, A.transpose(1, 0, 2).reshape(A.shape[1], -1, order='F'))"
   ]
  },
  {
   "cell_type": "code",
   "execution_count": 245,
   "metadata": {},
   "outputs": [
    {
     "data": {
      "text/plain": [
       "array([[ 1.,  2.],\n",
       "       [ 0., -1.]])"
      ]
     },
     "execution_count": 245,
     "metadata": {},
     "output_type": "execute_result"
    }
   ],
   "source": [
    "G.transpose(2, 0, 1).reshape(G.shape[2], -1, order='F')"
   ]
  },
  {
   "cell_type": "code",
   "execution_count": 246,
   "metadata": {},
   "outputs": [],
   "source": [
    "A_tucker = np.einsum('abc,ia,jb,kc->ijk', G, U, V, W, optimize=True)"
   ]
  },
  {
   "cell_type": "code",
   "execution_count": 247,
   "metadata": {},
   "outputs": [
    {
     "data": {
      "text/plain": [
       "True"
      ]
     },
     "execution_count": 247,
     "metadata": {},
     "output_type": "execute_result"
    }
   ],
   "source": [
    "np.allclose(A, A_tucker)"
   ]
  },
  {
   "cell_type": "code",
   "execution_count": 248,
   "metadata": {},
   "outputs": [
    {
     "data": {
      "text/plain": [
       "True"
      ]
     },
     "execution_count": 248,
     "metadata": {},
     "output_type": "execute_result"
    }
   ],
   "source": [
    "np.allclose(\n",
    "    A, \n",
    "    G[0, 0, 0] * np.einsum('i,j,k->ijk', a, a, a) + G[0, 1, 0] * np.einsum('i,j,k->ijk', a, b, a) + G[0, 1, 1] * np.einsum('i,j,k->ijk', a, b, b)\n",
    ")"
   ]
  },
  {
   "cell_type": "markdown",
   "metadata": {},
   "source": [
    "# 5"
   ]
  },
  {
   "cell_type": "code",
   "execution_count": 249,
   "metadata": {},
   "outputs": [],
   "source": [
    "np.random.seed(0)\n",
    "\n",
    "n = 5\n",
    "r = 2\n",
    "a = np.random.randn(n)\n",
    "T = sp.linalg.toeplitz(np.random.randn(n), np.random.randn(n))\n",
    "c = np.random.randn(n)\n",
    "C = sp.linalg.circulant(c)\n",
    "U = np.random.randn(n, r)\n",
    "V = np.random.randn(n, r)"
   ]
  },
  {
   "cell_type": "code",
   "execution_count": 250,
   "metadata": {},
   "outputs": [],
   "source": [
    "C_inv = 1/n * sp.linalg.dft(n).conj().T @ np.diag(1/np.fft.fft(c)) @ sp.linalg.dft(n)"
   ]
  },
  {
   "cell_type": "code",
   "execution_count": 251,
   "metadata": {},
   "outputs": [
    {
     "data": {
      "text/plain": [
       "array([ 0.21319784+0.j, -0.09928341+0.j,  0.22897199+0.j,  0.05692119+0.j,\n",
       "        0.52477673+0.j])"
      ]
     },
     "execution_count": 251,
     "metadata": {},
     "output_type": "execute_result"
    }
   ],
   "source": [
    "np.fft.ifft(1/np.fft.fft(c))"
   ]
  },
  {
   "cell_type": "code",
   "execution_count": 252,
   "metadata": {},
   "outputs": [
    {
     "data": {
      "text/plain": [
       "array([[ 0.21319784+0.00000000e+00j,  0.52477673+4.19285294e-17j,\n",
       "         0.05692119-2.23781536e-17j,  0.22897199+1.88149230e-17j,\n",
       "        -0.09928341-1.54721486e-16j],\n",
       "       [-0.09928341+2.77555756e-17j,  0.21319784-1.66845672e-17j,\n",
       "         0.52477673+2.41620736e-17j,  0.05692119-2.14972960e-17j,\n",
       "         0.22897199+2.65491494e-17j],\n",
       "       [ 0.22897199+0.00000000e+00j, -0.09928341+1.80133915e-17j,\n",
       "         0.21319784+1.08104424e-17j,  0.52477673+1.60135845e-17j,\n",
       "         0.05692119-1.12561211e-17j],\n",
       "       [ 0.05692119+2.77555756e-17j,  0.22897199-1.76859233e-17j,\n",
       "        -0.09928341+5.33204059e-17j,  0.21319784+4.49055724e-17j,\n",
       "         0.52477673+7.09555695e-18j],\n",
       "       [ 0.52477673-1.76941795e-16j,  0.05692119+6.16387616e-17j,\n",
       "         0.22897199+2.14720150e-17j, -0.09928341-1.47741326e-17j,\n",
       "         0.21319784+4.65459399e-17j]])"
      ]
     },
     "execution_count": 252,
     "metadata": {},
     "output_type": "execute_result"
    }
   ],
   "source": [
    "C_inv"
   ]
  },
  {
   "cell_type": "code",
   "execution_count": 253,
   "metadata": {},
   "outputs": [],
   "source": [
    "A = np.linalg.inv(C) @ np.linalg.pinv(np.outer(a, a) + T @ T @ np.fft.fft2(U @ V.T))"
   ]
  },
  {
   "cell_type": "code",
   "execution_count": 254,
   "metadata": {},
   "outputs": [],
   "source": [
    "U_hat = np.fft.fft(U, axis=0)\n",
    "V_hat = np.fft.fft(V, axis=0)\n",
    "\n",
    "P = np.concatenate((a[:, None], T @ T @ U_hat), axis=1)\n",
    "D = np.concatenate((a[:, None], V_hat), axis=1)\n",
    "\n",
    "M = P @ D.T\n",
    "\n",
    "Qp, Rp = np.linalg.qr(P)\n",
    "Qd, Rd = np.linalg.qr(D)\n",
    "\n",
    "U_, S, Vh_ = np.linalg.svd(Rp @ Rd.T)\n",
    "\n",
    "Um = Qp @ U_\n",
    "Vm = Qd.conj() @ Vh_.conj().T"
   ]
  },
  {
   "cell_type": "code",
   "execution_count": 255,
   "metadata": {},
   "outputs": [
    {
     "data": {
      "text/plain": [
       "True"
      ]
     },
     "execution_count": 255,
     "metadata": {},
     "output_type": "execute_result"
    }
   ],
   "source": [
    "M_pinv = Vm @ np.diag(1/S) @ Um.conj().T\n",
    "C_inv = sp.linalg.circulant(np.fft.ifft(1/np.fft.fft(c)))\n",
    "\n",
    "np.allclose(\n",
    "    (C_inv @ Vm @ np.diag(1/S)) @ Um.T.conj(), A\n",
    ")"
   ]
  },
  {
   "cell_type": "markdown",
   "metadata": {},
   "source": [
    "# 1-Bonus"
   ]
  },
  {
   "cell_type": "code",
   "execution_count": 256,
   "metadata": {},
   "outputs": [],
   "source": [
    "n = 5\n",
    "A = np.random.randn(n, n)\n",
    "B = np.random.randn(n, n)\n",
    "X = np.random.randn(n, n)\n",
    "F = A @ X + X @ B\n",
    "I = np.eye(n)"
   ]
  },
  {
   "cell_type": "code",
   "execution_count": 257,
   "metadata": {},
   "outputs": [],
   "source": [
    "X_triv = np.linalg.solve(\n",
    "    np.kron(I, A) + np.kron(B.T, I),\n",
    "    F.flatten('F')\n",
    ").reshape(n, n, order='F')"
   ]
  },
  {
   "cell_type": "code",
   "execution_count": 258,
   "metadata": {},
   "outputs": [
    {
     "data": {
      "text/plain": [
       "True"
      ]
     },
     "execution_count": 258,
     "metadata": {},
     "output_type": "execute_result"
    }
   ],
   "source": [
    "np.allclose(X, X_triv)"
   ]
  },
  {
   "cell_type": "code",
   "execution_count": 259,
   "metadata": {},
   "outputs": [
    {
     "data": {
      "text/plain": [
       "array([ 1.17381737+0.j     ,  0.7163796 +0.j     , -2.02207499+0.28971j,\n",
       "       -2.02207499-0.28971j, -1.1150964 +0.j     ])"
      ]
     },
     "execution_count": 259,
     "metadata": {},
     "output_type": "execute_result"
    }
   ],
   "source": [
    "np.linalg.eigvals(A)"
   ]
  },
  {
   "cell_type": "code",
   "execution_count": 260,
   "metadata": {},
   "outputs": [
    {
     "data": {
      "text/plain": [
       "array([[ 1.17381737, -0.75659334,  0.36288635, -1.76652866, -2.15186256],\n",
       "       [ 0.        ,  0.7163796 ,  0.51414063, -0.50075423,  1.24453083],\n",
       "       [ 0.        ,  0.        , -2.02207499, -0.12530063, -0.69259002],\n",
       "       [ 0.        ,  0.        ,  0.66984408, -2.02207499,  0.08792902],\n",
       "       [ 0.        ,  0.        ,  0.        ,  0.        , -1.1150964 ]])"
      ]
     },
     "execution_count": 260,
     "metadata": {},
     "output_type": "execute_result"
    }
   ],
   "source": [
    "sp.linalg.schur(A, output='real')[0]"
   ]
  },
  {
   "cell_type": "markdown",
   "metadata": {},
   "source": [
    "# 2-Bonus"
   ]
  },
  {
   "cell_type": "code",
   "execution_count": 261,
   "metadata": {},
   "outputs": [],
   "source": [
    "n = 10**1\n",
    "c = np.random.randn(n)\n",
    "C = sp.linalg.circulant(c)\n",
    "lambd_C = np.linalg.eigvals(C)"
   ]
  },
  {
   "cell_type": "code",
   "execution_count": 262,
   "metadata": {},
   "outputs": [],
   "source": [
    "Cm = C.copy()\n",
    "Cm[np.tril_indices(n, k=-1)] *= -1\n",
    "d = Cm[0, :]"
   ]
  },
  {
   "cell_type": "code",
   "execution_count": 263,
   "metadata": {},
   "outputs": [
    {
     "data": {
      "text/plain": [
       "True"
      ]
     },
     "execution_count": 263,
     "metadata": {},
     "output_type": "execute_result"
    }
   ],
   "source": [
    "pq = np.outer(np.arange(n), np.arange(1, 2*n, 2))\n",
    "U = np.exp(1j * np.pi * pq / n)\n",
    "L = U.T @ d\n",
    "\n",
    "np.allclose(Cm @ U,  U @ np.diag(L))"
   ]
  },
  {
   "cell_type": "markdown",
   "metadata": {},
   "source": [
    "# 3-Bonus"
   ]
  },
  {
   "cell_type": "code",
   "execution_count": 340,
   "metadata": {},
   "outputs": [],
   "source": [
    "n = 927\n",
    "A = np.cos(np.outer(np.arange(1, n+1), np.arange(1, n+1)))\n",
    "x = np.random.randn(n)"
   ]
  },
  {
   "cell_type": "code",
   "execution_count": 341,
   "metadata": {},
   "outputs": [],
   "source": [
    "y_direct = A @ x"
   ]
  },
  {
   "cell_type": "code",
   "execution_count": 342,
   "metadata": {},
   "outputs": [],
   "source": [
    "b = np.exp(-0.5j * np.arange(-n, n+1)**2)\n",
    "a = x * b[n+1:].conj()\n",
    "conv = sp.signal.convolve(a, b, mode='same')\n",
    "\n",
    "y_fast = np.real(conv * b[n+1:].conj())"
   ]
  },
  {
   "cell_type": "code",
   "execution_count": 343,
   "metadata": {},
   "outputs": [
    {
     "data": {
      "text/plain": [
       "True"
      ]
     },
     "execution_count": 343,
     "metadata": {},
     "output_type": "execute_result"
    }
   ],
   "source": [
    "np.allclose(y_direct, y_fast)"
   ]
  }
 ],
 "metadata": {
  "kernelspec": {
   "display_name": "python312",
   "language": "python",
   "name": "python3"
  },
  "language_info": {
   "codemirror_mode": {
    "name": "ipython",
    "version": 3
   },
   "file_extension": ".py",
   "mimetype": "text/x-python",
   "name": "python",
   "nbconvert_exporter": "python",
   "pygments_lexer": "ipython3",
   "version": "3.12.5"
  }
 },
 "nbformat": 4,
 "nbformat_minor": 2
}
