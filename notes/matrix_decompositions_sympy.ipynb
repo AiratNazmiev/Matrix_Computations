{
 "cells": [
  {
   "cell_type": "code",
   "execution_count": 6,
   "metadata": {},
   "outputs": [],
   "source": [
    "import sympy as sym"
   ]
  },
  {
   "cell_type": "code",
   "execution_count": 16,
   "metadata": {},
   "outputs": [
    {
     "data": {
      "text/latex": [
       "$\\displaystyle \\left[\\begin{matrix}5 & 4 & 2 & 1\\\\0 & 1 & -1 & -1\\\\-1 & -1 & 3 & 0\\\\1 & 1 & -1 & 2\\end{matrix}\\right]$"
      ],
      "text/plain": [
       "Matrix([\n",
       "[ 5,  4,  2,  1],\n",
       "[ 0,  1, -1, -1],\n",
       "[-1, -1,  3,  0],\n",
       "[ 1,  1, -1,  2]])"
      ]
     },
     "execution_count": 16,
     "metadata": {},
     "output_type": "execute_result"
    }
   ],
   "source": [
    "A = sym.Matrix([\n",
    "    [5, 4, 2, 1],\n",
    "    [0, 1, -1, -1], \n",
    "    [-1, -1, 3, 0], \n",
    "    [1, 1, -1, 2]\n",
    "])\n",
    "\n",
    "n = sym.symbols('n', integer=True, positive=True)\n",
    "# A = sym.Matrix([\n",
    "#     [0, 1],\n",
    "#     [1/n, 0]\n",
    "# ])\n",
    "A"
   ]
  },
  {
   "cell_type": "code",
   "execution_count": 10,
   "metadata": {},
   "outputs": [
    {
     "data": {
      "text/latex": [
       "$\\displaystyle \\operatorname{PurePoly}{\\left( \\lambda^{4} - 11 \\lambda^{3} + 42 \\lambda^{2} - 64 \\lambda + 32, \\lambda, domain=\\mathbb{Z} \\right)}$"
      ],
      "text/plain": [
       "PurePoly(lambda**4 - 11*lambda**3 + 42*lambda**2 - 64*lambda + 32, lambda, domain='ZZ')"
      ]
     },
     "execution_count": 10,
     "metadata": {},
     "output_type": "execute_result"
    }
   ],
   "source": [
    "A.charpoly()"
   ]
  },
  {
   "cell_type": "code",
   "execution_count": 11,
   "metadata": {},
   "outputs": [
    {
     "data": {
      "text/plain": [
       "{2: 1, 1: 1, 4: 2}"
      ]
     },
     "execution_count": 11,
     "metadata": {},
     "output_type": "execute_result"
    }
   ],
   "source": [
    "A.eigenvals()"
   ]
  },
  {
   "cell_type": "code",
   "execution_count": 12,
   "metadata": {},
   "outputs": [
    {
     "data": {
      "text/latex": [
       "$\\displaystyle \\left[\\begin{matrix}\\frac{3}{16} & - \\frac{13}{16} & - \\frac{9}{16} & - \\frac{1}{2}\\\\0 & 1 & \\frac{1}{2} & \\frac{1}{2}\\\\\\frac{1}{16} & \\frac{1}{16} & \\frac{5}{16} & 0\\\\- \\frac{1}{16} & - \\frac{1}{16} & \\frac{3}{16} & \\frac{1}{2}\\end{matrix}\\right]$"
      ],
      "text/plain": [
       "Matrix([\n",
       "[ 3/16, -13/16, -9/16, -1/2],\n",
       "[    0,      1,   1/2,  1/2],\n",
       "[ 1/16,   1/16,  5/16,    0],\n",
       "[-1/16,  -1/16,  3/16,  1/2]])"
      ]
     },
     "execution_count": 12,
     "metadata": {},
     "output_type": "execute_result"
    }
   ],
   "source": [
    "A.inv()"
   ]
  },
  {
   "cell_type": "code",
   "execution_count": 13,
   "metadata": {},
   "outputs": [
    {
     "data": {
      "text/latex": [
       "$\\displaystyle \\left[\\begin{matrix}1 & 0 & 0 & 0\\\\0 & 1 & 0 & 0\\\\- \\frac{1}{5} & - \\frac{1}{5} & 1 & 0\\\\\\frac{1}{5} & \\frac{1}{5} & - \\frac{3}{8} & 1\\end{matrix}\\right]$"
      ],
      "text/plain": [
       "Matrix([\n",
       "[   1,    0,    0, 0],\n",
       "[   0,    1,    0, 0],\n",
       "[-1/5, -1/5,    1, 0],\n",
       "[ 1/5,  1/5, -3/8, 1]])"
      ]
     },
     "metadata": {},
     "output_type": "display_data"
    },
    {
     "data": {
      "text/latex": [
       "$\\displaystyle \\left[\\begin{matrix}5 & 4 & 2 & 1\\\\0 & 1 & -1 & -1\\\\0 & 0 & \\frac{16}{5} & 0\\\\0 & 0 & 0 & 2\\end{matrix}\\right]$"
      ],
      "text/plain": [
       "Matrix([\n",
       "[5, 4,    2,  1],\n",
       "[0, 1,   -1, -1],\n",
       "[0, 0, 16/5,  0],\n",
       "[0, 0,    0,  2]])"
      ]
     },
     "metadata": {},
     "output_type": "display_data"
    }
   ],
   "source": [
    "L, U, P = A.LUdecomposition()\n",
    "display(L, U)"
   ]
  },
  {
   "cell_type": "code",
   "execution_count": 14,
   "metadata": {},
   "outputs": [
    {
     "data": {
      "text/latex": [
       "$\\displaystyle \\left[\\begin{matrix}\\frac{5 \\sqrt{3}}{9} & - \\frac{2 \\sqrt{87}}{261} & \\frac{11 \\sqrt{87}}{435} & - \\frac{\\sqrt{3}}{15}\\\\0 & \\frac{3 \\sqrt{87}}{29} & \\frac{11 \\sqrt{87}}{435} & - \\frac{\\sqrt{3}}{15}\\\\- \\frac{\\sqrt{3}}{9} & - \\frac{5 \\sqrt{87}}{261} & \\frac{14 \\sqrt{87}}{145} & \\frac{\\sqrt{3}}{5}\\\\\\frac{\\sqrt{3}}{9} & \\frac{5 \\sqrt{87}}{261} & - \\frac{13 \\sqrt{87}}{435} & \\frac{8 \\sqrt{3}}{15}\\end{matrix}\\right]$"
      ],
      "text/plain": [
       "Matrix([\n",
       "[5*sqrt(3)/9, -2*sqrt(87)/261,  11*sqrt(87)/435,  -sqrt(3)/15],\n",
       "[          0,   3*sqrt(87)/29,  11*sqrt(87)/435,  -sqrt(3)/15],\n",
       "[ -sqrt(3)/9, -5*sqrt(87)/261,  14*sqrt(87)/145,    sqrt(3)/5],\n",
       "[  sqrt(3)/9,  5*sqrt(87)/261, -13*sqrt(87)/435, 8*sqrt(3)/15]])"
      ]
     },
     "metadata": {},
     "output_type": "display_data"
    },
    {
     "data": {
      "text/latex": [
       "$\\displaystyle \\left[\\begin{matrix}3 \\sqrt{3} & \\frac{22 \\sqrt{3}}{9} & \\frac{2 \\sqrt{3}}{3} & \\frac{7 \\sqrt{3}}{9}\\\\0 & \\frac{\\sqrt{87}}{9} & - \\frac{17 \\sqrt{87}}{87} & - \\frac{19 \\sqrt{87}}{261}\\\\0 & 0 & \\frac{10 \\sqrt{87}}{29} & - \\frac{26 \\sqrt{87}}{435}\\\\0 & 0 & 0 & \\frac{16 \\sqrt{3}}{15}\\end{matrix}\\right]$"
      ],
      "text/plain": [
       "Matrix([\n",
       "[3*sqrt(3), 22*sqrt(3)/9,     2*sqrt(3)/3,      7*sqrt(3)/9],\n",
       "[        0,   sqrt(87)/9, -17*sqrt(87)/87, -19*sqrt(87)/261],\n",
       "[        0,            0,  10*sqrt(87)/29, -26*sqrt(87)/435],\n",
       "[        0,            0,               0,    16*sqrt(3)/15]])"
      ]
     },
     "metadata": {},
     "output_type": "display_data"
    }
   ],
   "source": [
    "Q, R = A.QRdecomposition()\n",
    "display(Q, R)"
   ]
  },
  {
   "cell_type": "code",
   "execution_count": 15,
   "metadata": {},
   "outputs": [
    {
     "data": {
      "text/latex": [
       "$\\displaystyle \\left[\\begin{matrix}-1 & 1 & 1 & 1\\\\1 & -1 & 0 & 0\\\\0 & 0 & -1 & 0\\\\0 & 1 & 1 & 0\\end{matrix}\\right]$"
      ],
      "text/plain": [
       "Matrix([\n",
       "[-1,  1,  1, 1],\n",
       "[ 1, -1,  0, 0],\n",
       "[ 0,  0, -1, 0],\n",
       "[ 0,  1,  1, 0]])"
      ]
     },
     "metadata": {},
     "output_type": "display_data"
    },
    {
     "data": {
      "text/latex": [
       "$\\displaystyle \\left[\\begin{matrix}1 & 0 & 0 & 0\\\\0 & 2 & 0 & 0\\\\0 & 0 & 4 & 1\\\\0 & 0 & 0 & 4\\end{matrix}\\right]$"
      ],
      "text/plain": [
       "Matrix([\n",
       "[1, 0, 0, 0],\n",
       "[0, 2, 0, 0],\n",
       "[0, 0, 4, 1],\n",
       "[0, 0, 0, 4]])"
      ]
     },
     "metadata": {},
     "output_type": "display_data"
    },
    {
     "data": {
      "text/latex": [
       "$\\displaystyle \\left[\\begin{matrix}0 & 1 & 1 & 1\\\\0 & 0 & 1 & 1\\\\0 & 0 & -1 & 0\\\\1 & 1 & 1 & 0\\end{matrix}\\right]$"
      ],
      "text/plain": [
       "Matrix([\n",
       "[0, 1,  1, 1],\n",
       "[0, 0,  1, 1],\n",
       "[0, 0, -1, 0],\n",
       "[1, 1,  1, 0]])"
      ]
     },
     "metadata": {},
     "output_type": "display_data"
    }
   ],
   "source": [
    "P, J = A.jordan_form(calc_transform=True)\n",
    "display(P, J, P.inv())"
   ]
  },
  {
   "cell_type": "code",
   "execution_count": 17,
   "metadata": {},
   "outputs": [
    {
     "data": {
      "text/latex": [
       "$\\displaystyle \\left[\\begin{matrix}\\frac{1}{2 \\sqrt{n}} & \\frac{1}{2}\\\\- \\frac{1}{2 \\sqrt{n}} & \\frac{1}{2}\\end{matrix}\\right]$"
      ],
      "text/plain": [
       "Matrix([\n",
       "[ 1/(2*sqrt(n)), 1/2],\n",
       "[-1/(2*sqrt(n)), 1/2]])"
      ]
     },
     "execution_count": 17,
     "metadata": {},
     "output_type": "execute_result"
    }
   ],
   "source": [
    "tmp = sym.Matrix([\n",
    "    [sym.sqrt(n), -sym.sqrt(n)],\n",
    "    [1, 1]\n",
    "])\n",
    "tmp.inv()"
   ]
  },
  {
   "cell_type": "code",
   "execution_count": 18,
   "metadata": {},
   "outputs": [
    {
     "data": {
      "text/plain": [
       "True"
      ]
     },
     "execution_count": 18,
     "metadata": {},
     "output_type": "execute_result"
    }
   ],
   "source": [
    "P @ J @ P.inv() == A"
   ]
  },
  {
   "cell_type": "code",
   "execution_count": 19,
   "metadata": {},
   "outputs": [],
   "source": [
    "B = A - A.T\n",
    "BQ = (sym.eye(B.shape[0]) - B) * (sym.eye(B.shape[0]) + B).inv()"
   ]
  },
  {
   "cell_type": "code",
   "execution_count": 20,
   "metadata": {},
   "outputs": [
    {
     "data": {
      "text/plain": [
       "{-99/131 - 10*sqrt(5)/131 - 2*sqrt(5)*sqrt(-343 + 99*sqrt(5))/131: 1,\n",
       " -99/131 - 10*sqrt(5)/131 + 2*sqrt(5)*sqrt(-343 + 99*sqrt(5))/131: 1,\n",
       " -99/131 + 10*sqrt(5)/131 - 2*sqrt(5)*I*sqrt(99*sqrt(5) + 343)/131: 1,\n",
       " -99/131 + 10*sqrt(5)/131 + 2*sqrt(5)*I*sqrt(99*sqrt(5) + 343)/131: 1}"
      ]
     },
     "metadata": {},
     "output_type": "display_data"
    }
   ],
   "source": [
    "display(BQ.eigenvals())"
   ]
  },
  {
   "cell_type": "code",
   "execution_count": 21,
   "metadata": {},
   "outputs": [
    {
     "data": {
      "text/latex": [
       "$\\displaystyle 1$"
      ],
      "text/plain": [
       "1"
      ]
     },
     "execution_count": 21,
     "metadata": {},
     "output_type": "execute_result"
    }
   ],
   "source": [
    "BQ.det()"
   ]
  },
  {
   "cell_type": "code",
   "execution_count": null,
   "metadata": {},
   "outputs": [],
   "source": []
  }
 ],
 "metadata": {
  "kernelspec": {
   "display_name": "python312",
   "language": "python",
   "name": "python3"
  },
  "language_info": {
   "codemirror_mode": {
    "name": "ipython",
    "version": 3
   },
   "file_extension": ".py",
   "mimetype": "text/x-python",
   "name": "python",
   "nbconvert_exporter": "python",
   "pygments_lexer": "ipython3",
   "version": "3.12.5"
  }
 },
 "nbformat": 4,
 "nbformat_minor": 2
}
