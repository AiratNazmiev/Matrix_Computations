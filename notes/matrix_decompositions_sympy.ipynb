{
 "cells": [
  {
   "cell_type": "code",
   "execution_count": 2,
   "metadata": {},
   "outputs": [],
   "source": [
    "import sympy as sym"
   ]
  },
  {
   "cell_type": "code",
   "execution_count": 11,
   "metadata": {},
   "outputs": [
    {
     "data": {
      "text/latex": [
       "$\\displaystyle \\left[\\begin{matrix}1 & 0 & 0\\\\0 & \\frac{\\sqrt{3}}{2} & - \\frac{1}{2}\\\\0 & \\frac{1}{2} & \\frac{\\sqrt{3}}{2}\\end{matrix}\\right]$"
      ],
      "text/plain": [
       "Matrix([\n",
       "[1,         0,         0],\n",
       "[0, sqrt(3)/2,      -1/2],\n",
       "[0,       1/2, sqrt(3)/2]])"
      ]
     },
     "execution_count": 11,
     "metadata": {},
     "output_type": "execute_result"
    }
   ],
   "source": [
    "phi = sym.pi * sym.Rational(1, 6)\n",
    "A = sym.Matrix([\n",
    "    [1, 0, 0],\n",
    "    [0, sym.cos(phi), -sym.sin(phi)],\n",
    "    [0, sym.sin(phi), sym.cos(phi)]\n",
    "])\n",
    "\n",
    "n = sym.symbols('n', integer=True, positive=True)\n",
    "# A = sym.Matrix([\n",
    "#     [0, 1],\n",
    "#     [1/n, 0]\n",
    "# ])\n",
    "A"
   ]
  },
  {
   "cell_type": "code",
   "execution_count": 12,
   "metadata": {},
   "outputs": [
    {
     "data": {
      "text/latex": [
       "$\\displaystyle \\operatorname{PurePoly}{\\left( \\lambda^{3} + \\left(- \\sqrt{3} - 1\\right) \\lambda^{2} + \\left(1 + \\sqrt{3}\\right) \\lambda - 1, \\lambda, domain=\\mathtt{\\text{EX}} \\right)}$"
      ],
      "text/plain": [
       "PurePoly(lambda**3 + (-sqrt(3) - 1)*lambda**2 + (1 + sqrt(3))*lambda - 1, lambda, domain='EX')"
      ]
     },
     "execution_count": 12,
     "metadata": {},
     "output_type": "execute_result"
    }
   ],
   "source": [
    "A.charpoly()"
   ]
  },
  {
   "cell_type": "code",
   "execution_count": 13,
   "metadata": {},
   "outputs": [
    {
     "data": {
      "text/plain": [
       "{1: 1, sqrt(3)/2 - I/2: 1, sqrt(3)/2 + I/2: 1}"
      ]
     },
     "execution_count": 13,
     "metadata": {},
     "output_type": "execute_result"
    }
   ],
   "source": [
    "A.eigenvals()"
   ]
  },
  {
   "cell_type": "code",
   "execution_count": 14,
   "metadata": {},
   "outputs": [
    {
     "data": {
      "text/latex": [
       "$\\displaystyle \\left[\\begin{matrix}1 & 0 & 0\\\\0 & \\frac{\\sqrt{3}}{2} & \\frac{1}{2}\\\\0 & - \\frac{1}{2} & \\frac{\\sqrt{3}}{2}\\end{matrix}\\right]$"
      ],
      "text/plain": [
       "Matrix([\n",
       "[1,         0,         0],\n",
       "[0, sqrt(3)/2,       1/2],\n",
       "[0,      -1/2, sqrt(3)/2]])"
      ]
     },
     "execution_count": 14,
     "metadata": {},
     "output_type": "execute_result"
    }
   ],
   "source": [
    "A.inv()"
   ]
  },
  {
   "cell_type": "code",
   "execution_count": 15,
   "metadata": {},
   "outputs": [
    {
     "data": {
      "text/latex": [
       "$\\displaystyle \\left[\\begin{matrix}1 & 0 & 0\\\\0 & 1 & 0\\\\0 & \\frac{\\sqrt{3}}{3} & 1\\end{matrix}\\right]$"
      ],
      "text/plain": [
       "Matrix([\n",
       "[1,         0, 0],\n",
       "[0,         1, 0],\n",
       "[0, sqrt(3)/3, 1]])"
      ]
     },
     "metadata": {},
     "output_type": "display_data"
    },
    {
     "data": {
      "text/latex": [
       "$\\displaystyle \\left[\\begin{matrix}1 & 0 & 0\\\\0 & \\frac{\\sqrt{3}}{2} & - \\frac{1}{2}\\\\0 & 0 & \\frac{2 \\sqrt{3}}{3}\\end{matrix}\\right]$"
      ],
      "text/plain": [
       "Matrix([\n",
       "[1,         0,           0],\n",
       "[0, sqrt(3)/2,        -1/2],\n",
       "[0,         0, 2*sqrt(3)/3]])"
      ]
     },
     "metadata": {},
     "output_type": "display_data"
    }
   ],
   "source": [
    "L, U, P = A.LUdecomposition()\n",
    "display(L, U)"
   ]
  },
  {
   "cell_type": "code",
   "execution_count": 16,
   "metadata": {},
   "outputs": [
    {
     "data": {
      "text/latex": [
       "$\\displaystyle \\left[\\begin{matrix}1 & 0 & 0\\\\0 & \\frac{\\sqrt{3}}{2} & - \\frac{1}{2}\\\\0 & \\frac{1}{2} & \\frac{\\sqrt{3}}{2}\\end{matrix}\\right]$"
      ],
      "text/plain": [
       "Matrix([\n",
       "[1,         0,         0],\n",
       "[0, sqrt(3)/2,      -1/2],\n",
       "[0,       1/2, sqrt(3)/2]])"
      ]
     },
     "metadata": {},
     "output_type": "display_data"
    },
    {
     "data": {
      "text/latex": [
       "$\\displaystyle \\left[\\begin{matrix}1 & 0 & 0\\\\0 & 1 & 0\\\\0 & 0 & 1\\end{matrix}\\right]$"
      ],
      "text/plain": [
       "Matrix([\n",
       "[1, 0, 0],\n",
       "[0, 1, 0],\n",
       "[0, 0, 1]])"
      ]
     },
     "metadata": {},
     "output_type": "display_data"
    }
   ],
   "source": [
    "Q, R = A.QRdecomposition()\n",
    "display(Q, R)"
   ]
  },
  {
   "cell_type": "code",
   "execution_count": 17,
   "metadata": {},
   "outputs": [
    {
     "data": {
      "text/latex": [
       "$\\displaystyle \\left[\\begin{matrix}1 & 0 & 0\\\\0 & - i & i\\\\0 & 1 & 1\\end{matrix}\\right]$"
      ],
      "text/plain": [
       "Matrix([\n",
       "[1,  0, 0],\n",
       "[0, -I, I],\n",
       "[0,  1, 1]])"
      ]
     },
     "metadata": {},
     "output_type": "display_data"
    },
    {
     "data": {
      "text/latex": [
       "$\\displaystyle \\left[\\begin{matrix}1 & 0 & 0\\\\0 & \\frac{\\sqrt{3}}{2} - \\frac{i}{2} & 0\\\\0 & 0 & \\frac{\\sqrt{3}}{2} + \\frac{i}{2}\\end{matrix}\\right]$"
      ],
      "text/plain": [
       "Matrix([\n",
       "[1,               0,               0],\n",
       "[0, sqrt(3)/2 - I/2,               0],\n",
       "[0,               0, sqrt(3)/2 + I/2]])"
      ]
     },
     "metadata": {},
     "output_type": "display_data"
    },
    {
     "data": {
      "text/latex": [
       "$\\displaystyle \\left[\\begin{matrix}1 & 0 & 0\\\\0 & \\frac{i}{2} & \\frac{1}{2}\\\\0 & - \\frac{i}{2} & \\frac{1}{2}\\end{matrix}\\right]$"
      ],
      "text/plain": [
       "Matrix([\n",
       "[1,    0,   0],\n",
       "[0,  I/2, 1/2],\n",
       "[0, -I/2, 1/2]])"
      ]
     },
     "metadata": {},
     "output_type": "display_data"
    }
   ],
   "source": [
    "P, J = A.jordan_form(calc_transform=True)\n",
    "display(P, J, P.inv())"
   ]
  },
  {
   "cell_type": "code",
   "execution_count": 18,
   "metadata": {},
   "outputs": [
    {
     "data": {
      "text/latex": [
       "$\\displaystyle \\left[\\begin{matrix}\\frac{1}{2 \\sqrt{n}} & \\frac{1}{2}\\\\- \\frac{1}{2 \\sqrt{n}} & \\frac{1}{2}\\end{matrix}\\right]$"
      ],
      "text/plain": [
       "Matrix([\n",
       "[ 1/(2*sqrt(n)), 1/2],\n",
       "[-1/(2*sqrt(n)), 1/2]])"
      ]
     },
     "execution_count": 18,
     "metadata": {},
     "output_type": "execute_result"
    }
   ],
   "source": [
    "tmp = sym.Matrix([\n",
    "    [sym.sqrt(n), -sym.sqrt(n)],\n",
    "    [1, 1]\n",
    "])\n",
    "tmp.inv()"
   ]
  },
  {
   "cell_type": "code",
   "execution_count": 18,
   "metadata": {},
   "outputs": [
    {
     "data": {
      "text/plain": [
       "True"
      ]
     },
     "execution_count": 18,
     "metadata": {},
     "output_type": "execute_result"
    }
   ],
   "source": [
    "P @ J @ P.inv() == A"
   ]
  },
  {
   "cell_type": "code",
   "execution_count": 19,
   "metadata": {},
   "outputs": [],
   "source": [
    "B = A - A.T\n",
    "BQ = (sym.eye(B.shape[0]) - B) * (sym.eye(B.shape[0]) + B).inv()"
   ]
  },
  {
   "cell_type": "code",
   "execution_count": 20,
   "metadata": {},
   "outputs": [
    {
     "data": {
      "text/plain": [
       "{-99/131 - 10*sqrt(5)/131 - 2*sqrt(5)*sqrt(-343 + 99*sqrt(5))/131: 1,\n",
       " -99/131 - 10*sqrt(5)/131 + 2*sqrt(5)*sqrt(-343 + 99*sqrt(5))/131: 1,\n",
       " -99/131 + 10*sqrt(5)/131 - 2*sqrt(5)*I*sqrt(99*sqrt(5) + 343)/131: 1,\n",
       " -99/131 + 10*sqrt(5)/131 + 2*sqrt(5)*I*sqrt(99*sqrt(5) + 343)/131: 1}"
      ]
     },
     "metadata": {},
     "output_type": "display_data"
    }
   ],
   "source": [
    "display(BQ.eigenvals())"
   ]
  },
  {
   "cell_type": "code",
   "execution_count": 21,
   "metadata": {},
   "outputs": [
    {
     "data": {
      "text/latex": [
       "$\\displaystyle 1$"
      ],
      "text/plain": [
       "1"
      ]
     },
     "execution_count": 21,
     "metadata": {},
     "output_type": "execute_result"
    }
   ],
   "source": [
    "BQ.det()"
   ]
  }
 ],
 "metadata": {
  "kernelspec": {
   "display_name": "python312",
   "language": "python",
   "name": "python3"
  },
  "language_info": {
   "codemirror_mode": {
    "name": "ipython",
    "version": 3
   },
   "file_extension": ".py",
   "mimetype": "text/x-python",
   "name": "python",
   "nbconvert_exporter": "python",
   "pygments_lexer": "ipython3",
   "version": "3.12.5"
  }
 },
 "nbformat": 4,
 "nbformat_minor": 2
}
