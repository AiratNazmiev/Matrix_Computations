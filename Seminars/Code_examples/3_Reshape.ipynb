{
  "nbformat": 4,
  "nbformat_minor": 0,
  "metadata": {
    "colab": {
      "provenance": []
    },
    "kernelspec": {
      "name": "python3",
      "display_name": "Python 3"
    },
    "language_info": {
      "name": "python"
    }
  },
  "cells": [
    {
      "cell_type": "markdown",
      "source": [
        "# Семинар 3: Немного о np.reshape"
      ],
      "metadata": {
        "id": "vVx_fDMAgUsR"
      }
    },
    {
      "cell_type": "markdown",
      "source": [
        "## Двумерные матрицы и reshape"
      ],
      "metadata": {
        "id": "ztN_oYZl_Gow"
      }
    },
    {
      "cell_type": "markdown",
      "source": [
        "Посмотрим, что происходит с обычными матрицами, когда мы делаем reshape"
      ],
      "metadata": {
        "id": "YNkNC8dZga2s"
      }
    },
    {
      "cell_type": "code",
      "source": [
        "import numpy as np\n",
        "from copy import deepcopy"
      ],
      "metadata": {
        "id": "FME8LVwDf8Qf"
      },
      "execution_count": null,
      "outputs": []
    },
    {
      "cell_type": "markdown",
      "source": [
        "Рассмотрим матрицу и её транспонированную. Посмотрим на их флаги: какая contigiocity у них по умолчанию?"
      ],
      "metadata": {
        "id": "MRp7blti-CKx"
      }
    },
    {
      "cell_type": "code",
      "execution_count": null,
      "metadata": {
        "colab": {
          "base_uri": "https://localhost:8080/"
        },
        "id": "WVjSwdNNfu5I",
        "outputId": "427bf77a-beff-4d80-e368-0c4e81723b81"
      },
      "outputs": [
        {
          "output_type": "execute_result",
          "data": {
            "text/plain": [
              "(  C_CONTIGUOUS : True\n",
              "   F_CONTIGUOUS : False\n",
              "   OWNDATA : True\n",
              "   WRITEABLE : True\n",
              "   ALIGNED : True\n",
              "   WRITEBACKIFCOPY : False,\n",
              "   C_CONTIGUOUS : False\n",
              "   F_CONTIGUOUS : True\n",
              "   OWNDATA : False\n",
              "   WRITEABLE : True\n",
              "   ALIGNED : True\n",
              "   WRITEBACKIFCOPY : False)"
            ]
          },
          "metadata": {},
          "execution_count": 2
        }
      ],
      "source": [
        "A = np.array([\n",
        "    [0,1,2],\n",
        "    [3,4,5]\n",
        "])\n",
        "A.flags, np.transpose(A).flags"
      ]
    },
    {
      "cell_type": "code",
      "source": [
        "A.shape"
      ],
      "metadata": {
        "id": "Qc-UZ-zwlFV4",
        "outputId": "ab740130-6a2f-42df-97eb-e770775fb857",
        "colab": {
          "base_uri": "https://localhost:8080/"
        }
      },
      "execution_count": null,
      "outputs": [
        {
          "output_type": "execute_result",
          "data": {
            "text/plain": [
              "(2, 3)"
            ]
          },
          "metadata": {},
          "execution_count": 4
        }
      ]
    },
    {
      "cell_type": "markdown",
      "source": [
        "Давайте порешейпим нашу матрицу в другой размер с разными порядками. Посмотрим, как именно размещаются элементы внутри, и какие флаги contigiocity выставляются. Бонус: что происходит с owndata?"
      ],
      "metadata": {
        "id": "QjiMHymt_miA"
      }
    },
    {
      "cell_type": "code",
      "source": [
        "A_c = deepcopy(A)\n",
        "print(f'{A_c = }')\n",
        "f_reshaped_A_c = A_c.reshape((3, 2), order='f')\n",
        "c_reshaped_A_c = A_c.reshape((3, 2), order='c')\n",
        "print('===F-style===')\n",
        "print(f'{f_reshaped_A_c = }')\n",
        "print(f_reshaped_A_c.flags)\n",
        "print('===C-style===')\n",
        "print(f'{c_reshaped_A_c = }')\n",
        "print(c_reshaped_A_c.flags)"
      ],
      "metadata": {
        "colab": {
          "base_uri": "https://localhost:8080/"
        },
        "id": "HcGn5R_Dhp9A",
        "outputId": "4e6c0297-2b36-48c0-813a-d4fa4707cb3e"
      },
      "execution_count": null,
      "outputs": [
        {
          "output_type": "stream",
          "name": "stdout",
          "text": [
            "A_c = array([[0, 1, 2],\n",
            "       [3, 4, 5]])\n",
            "===F-style===\n",
            "f_reshaped_A_c = array([[0, 4],\n",
            "       [3, 2],\n",
            "       [1, 5]])\n",
            "  C_CONTIGUOUS : False\n",
            "  F_CONTIGUOUS : True\n",
            "  OWNDATA : False\n",
            "  WRITEABLE : True\n",
            "  ALIGNED : True\n",
            "  WRITEBACKIFCOPY : False\n",
            "\n",
            "===C-style===\n",
            "c_reshaped_A_c = array([[0, 1],\n",
            "       [2, 3],\n",
            "       [4, 5]])\n",
            "  C_CONTIGUOUS : True\n",
            "  F_CONTIGUOUS : False\n",
            "  OWNDATA : False\n",
            "  WRITEABLE : True\n",
            "  ALIGNED : True\n",
            "  WRITEBACKIFCOPY : False\n",
            "\n"
          ]
        }
      ]
    },
    {
      "cell_type": "code",
      "source": [
        "A_c = deepcopy(A)\n",
        "A_c[:,1][0]=5\n",
        "print(f'{A_c = }')\n",
        "print(A_c.flags)\n",
        "\n",
        "print('===[:,1]===')\n",
        "print(A[:,1].flags)\n",
        "print('===[1,:]===')\n",
        "print(A[1,:].flags)\n",
        "print('===to fortran [:,1]===')\n",
        "print(np.asfortranarray(deepcopy(A))[:,1].flags)\n",
        "print('===to fortran [1,:]===')\n",
        "print(np.asfortranarray(deepcopy(A))[1, :].flags)"
      ],
      "metadata": {
        "id": "LzfkEHTYvMHc",
        "outputId": "5f07aace-77cc-4552-ddce-f34c9e0c17cf",
        "colab": {
          "base_uri": "https://localhost:8080/"
        }
      },
      "execution_count": null,
      "outputs": [
        {
          "output_type": "stream",
          "name": "stdout",
          "text": [
            "A_c = array([[0, 5, 2],\n",
            "       [3, 4, 5]])\n",
            "  C_CONTIGUOUS : True\n",
            "  F_CONTIGUOUS : False\n",
            "  OWNDATA : True\n",
            "  WRITEABLE : True\n",
            "  ALIGNED : True\n",
            "  WRITEBACKIFCOPY : False\n",
            "\n",
            "===[:,1]===\n",
            "  C_CONTIGUOUS : False\n",
            "  F_CONTIGUOUS : False\n",
            "  OWNDATA : False\n",
            "  WRITEABLE : True\n",
            "  ALIGNED : True\n",
            "  WRITEBACKIFCOPY : False\n",
            "\n",
            "===[1,:]===\n",
            "  C_CONTIGUOUS : True\n",
            "  F_CONTIGUOUS : True\n",
            "  OWNDATA : False\n",
            "  WRITEABLE : True\n",
            "  ALIGNED : True\n",
            "  WRITEBACKIFCOPY : False\n",
            "\n",
            "===to fortran [:,1]===\n",
            "  C_CONTIGUOUS : True\n",
            "  F_CONTIGUOUS : True\n",
            "  OWNDATA : False\n",
            "  WRITEABLE : True\n",
            "  ALIGNED : True\n",
            "  WRITEBACKIFCOPY : False\n",
            "\n",
            "===to fortran [1,:]===\n",
            "  C_CONTIGUOUS : False\n",
            "  F_CONTIGUOUS : False\n",
            "  OWNDATA : False\n",
            "  WRITEABLE : True\n",
            "  ALIGNED : True\n",
            "  WRITEBACKIFCOPY : False\n",
            "\n"
          ]
        }
      ]
    },
    {
      "cell_type": "code",
      "source": [
        "m, n = 3000, 1000\n",
        "big_A = np.random.randn(m, n)\n",
        "print(f'{big_A.flags.c_contiguous = }')\n",
        "\n",
        "print('====Reshape===')\n",
        "res_c = %timeit -o -q big_A.reshape(2, -1)\n",
        "print(f'c-style: {res_c.average * 1e3:.{4}f}', \" ms\")\n",
        "res_c = %timeit -o -q big_A.reshape(-1, 2)\n",
        "print(f'c-style: {res_c.average * 1e3:.{4}f}', \" ms\")\n",
        "\n",
        "res_f = %timeit -o -q big_A.reshape((2, -1), order='f')\n",
        "print(f'f-style: {res_f.average * 1e3:.{4}f}', \" ms\")\n",
        "res_f = %timeit -o -q big_A.reshape((-1, 2), order='f')\n",
        "print(f'f-style: {res_f.average * 1e3:.{4}f}', \" ms\")\n",
        "\n",
        "\n",
        "print('====Transpose===')\n",
        "\n",
        "res_c = %timeit -o -q big_A.T\n",
        "print(f'c-style: {res_c.average * 1e3:.{4}f}', \" ms\")\n",
        "\n",
        "bbig_A = np.asfortranarray(deepcopy(big_A))\n",
        "res_f = %timeit -o -q bbig_A.T\n",
        "print(f'f-style: {res_f.average * 1e3:.{4}f}', \" ms\")\n",
        "\n",
        "res_non = %timeit -o -q bbig_A[:m - 1, :n - 1].T # lost contig.\n",
        "print(f'non-style: {res_non.average * 1e3:.{4}f}', \" ms\")"
      ],
      "metadata": {
        "colab": {
          "base_uri": "https://localhost:8080/"
        },
        "id": "9C3dMmliIJdf",
        "outputId": "546de49b-d6c7-4b80-bb27-b6ec8db81e43"
      },
      "execution_count": null,
      "outputs": [
        {
          "output_type": "stream",
          "name": "stdout",
          "text": [
            "big_A.flags.c_contiguous = True\n",
            "====Reshape===\n",
            "c-style: 0.0005  ms\n",
            "c-style: 0.0005  ms\n",
            "f-style: 10.2419  ms\n",
            "f-style: 9.1515  ms\n",
            "====Transpose===\n",
            "c-style: 0.0003  ms\n",
            "f-style: 0.0001  ms\n",
            "non-style: 0.0004  ms\n"
          ]
        }
      ]
    },
    {
      "cell_type": "code",
      "source": [],
      "metadata": {
        "id": "i4hUpBMHPeRc"
      },
      "execution_count": null,
      "outputs": []
    },
    {
      "cell_type": "markdown",
      "source": [
        "## Тензоры и reshape"
      ],
      "metadata": {
        "id": "VeNUoyss_KSX"
      }
    },
    {
      "cell_type": "markdown",
      "source": [
        "Перейдем к многомерному случаю."
      ],
      "metadata": {
        "id": "I7hroOqWg891"
      }
    },
    {
      "cell_type": "code",
      "source": [
        "A = np.array([          # первый индекс: внешний (по \"матрицам\")\n",
        "    [                   # второй индекс: средний (по \"строкам матрицы\")\n",
        "        [0, 1],         # последний индекс: \"внутри строки\"\n",
        "        [2, 3],\n",
        "    ],\n",
        "    [\n",
        "        [4, 5],\n",
        "        [6, 7]\n",
        "    ],\n",
        "    [\n",
        "        [8, 9],\n",
        "        [10, 11]\n",
        "    ],\n",
        "])\n",
        "A = A.transpose(1, 2, 0) # теперь первый индекс --- строки матриц,\n",
        "                         # второй --- столбы,\n",
        "                         # третий --- выбор матрицы"
      ],
      "metadata": {
        "id": "bTGWcs8Yg_Fg"
      },
      "execution_count": null,
      "outputs": []
    },
    {
      "cell_type": "code",
      "source": [
        "A[:, :, 0], A[:, :, 1], A[:, :, 2],"
      ],
      "metadata": {
        "colab": {
          "base_uri": "https://localhost:8080/"
        },
        "id": "MYCsymfu5DUz",
        "outputId": "87042344-a20e-4898-fcbc-9cefd4d7435a"
      },
      "execution_count": null,
      "outputs": [
        {
          "output_type": "execute_result",
          "data": {
            "text/plain": [
              "(array([[0, 1],\n",
              "        [2, 3]]),\n",
              " array([[4, 5],\n",
              "        [6, 7]]),\n",
              " array([[ 8,  9],\n",
              "        [10, 11]]))"
            ]
          },
          "metadata": {},
          "execution_count": 98
        }
      ]
    },
    {
      "cell_type": "markdown",
      "source": [
        "C-порядок в первую очередь меняет **последний** индекс и идет в переборе \"с конца\", в то время как F-порядок меняет первый и идет с начала."
      ],
      "metadata": {
        "id": "tJNI3JRpif_r"
      }
    },
    {
      "cell_type": "code",
      "source": [
        "A.reshape(2, -1)"
      ],
      "metadata": {
        "colab": {
          "base_uri": "https://localhost:8080/"
        },
        "id": "aoGdHFHJhUlm",
        "outputId": "8ddbacd2-888e-4ea9-c632-530b322eae20"
      },
      "execution_count": null,
      "outputs": [
        {
          "output_type": "execute_result",
          "data": {
            "text/plain": [
              "array([[ 0,  4,  8,  1,  5,  9],\n",
              "       [ 2,  6, 10,  3,  7, 11]])"
            ]
          },
          "metadata": {},
          "execution_count": 99
        }
      ]
    },
    {
      "cell_type": "code",
      "source": [
        "A.reshape((2, -1), order='f')"
      ],
      "metadata": {
        "colab": {
          "base_uri": "https://localhost:8080/"
        },
        "id": "kefRW_KRiOxh",
        "outputId": "e9d37aa5-3a1e-4c88-8b56-9d94f716465a"
      },
      "execution_count": null,
      "outputs": [
        {
          "output_type": "execute_result",
          "data": {
            "text/plain": [
              "array([[ 0,  1,  4,  5,  8,  9],\n",
              "       [ 2,  3,  6,  7, 10, 11]])"
            ]
          },
          "metadata": {},
          "execution_count": 101
        }
      ]
    },
    {
      "cell_type": "markdown",
      "source": [
        "Давайте напишем несложную программу с циклами, которая выводит элементы тензора так, будто они в C- или F-порядке"
      ],
      "metadata": {
        "id": "FEYDE43fivvw"
      }
    },
    {
      "cell_type": "code",
      "source": [
        "def print_C_order(A):\n",
        "    shape = A.shape     # A[i,j,k]\n",
        "    for i in range(shape[0]):\n",
        "        for j in range(shape[1]):\n",
        "            for k in range(shape[2]):\n",
        "                print(A[i,j,k], end = \" \")"
      ],
      "metadata": {
        "id": "FHj7Ewyticlk"
      },
      "execution_count": null,
      "outputs": []
    },
    {
      "cell_type": "code",
      "source": [
        "print_C_order(A)"
      ],
      "metadata": {
        "colab": {
          "base_uri": "https://localhost:8080/"
        },
        "id": "lKSBKNfojOfg",
        "outputId": "b3504f8c-7ff6-485b-ae8a-76f9842b0a72"
      },
      "execution_count": null,
      "outputs": [
        {
          "output_type": "stream",
          "name": "stdout",
          "text": [
            "0 4 8 1 5 9 2 6 10 3 7 11 "
          ]
        }
      ]
    },
    {
      "cell_type": "code",
      "source": [
        "def print_F_order(A):\n",
        "    shape = A.shape     # A[i,j,k]\n",
        "    for k in range(shape[2]):\n",
        "        for j in range(shape[1]):\n",
        "            for i in range(shape[0]):\n",
        "                print(A[i,j,k], end = \" \")"
      ],
      "metadata": {
        "id": "1OQaO9kVjNY4"
      },
      "execution_count": null,
      "outputs": []
    },
    {
      "cell_type": "code",
      "source": [
        "print_F_order(A)"
      ],
      "metadata": {
        "colab": {
          "base_uri": "https://localhost:8080/"
        },
        "id": "ubDf_dJEjez6",
        "outputId": "431cc5b9-a290-4cdd-cdb9-039a7e238801"
      },
      "execution_count": null,
      "outputs": [
        {
          "output_type": "stream",
          "name": "stdout",
          "text": [
            "0 2 1 3 4 6 5 7 8 10 9 11 "
          ]
        }
      ]
    }
  ]
}