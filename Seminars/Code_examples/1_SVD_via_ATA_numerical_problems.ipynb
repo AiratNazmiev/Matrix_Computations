{
  "nbformat": 4,
  "nbformat_minor": 0,
  "metadata": {
    "colab": {
      "provenance": []
    },
    "kernelspec": {
      "name": "python3",
      "display_name": "Python 3"
    },
    "language_info": {
      "name": "python"
    }
  },
  "cells": [
    {
      "cell_type": "code",
      "execution_count": null,
      "metadata": {
        "id": "WJQsiWIPuiL7"
      },
      "outputs": [],
      "source": [
        "import numpy as np\n",
        "import matplotlib.pyplot as plt"
      ]
    },
    {
      "cell_type": "markdown",
      "source": [
        "Возьмём матрицу $A=\\begin{bmatrix}1 & 1 \\\\ 0 & \\sqrt{\\varepsilon}\\end{bmatrix}$. Найдём её сингулярные числа двумя способами: как собственные числа матрицы $B=A^T A$ и через встроенную функцию numpy.linalg.svd, принцип работы которой нам пока непонятен."
      ],
      "metadata": {
        "id": "-uUtoluo8wVy"
      }
    },
    {
      "cell_type": "code",
      "source": [
        "k = 8\n",
        "A = np.array([[1,1],[0,10**(-k)]])\n",
        "B = A.T @ A\n",
        "lambdas = np.linalg.eigh(B)[0]\n",
        "lambdas = np.sqrt(lambdas)\n",
        "lambdas = np.sort(lambdas)[::-1]\n",
        "\n",
        "U, s, V = np.linalg.svd(A)\n",
        "\n",
        "print(lambdas)\n",
        "print(s)"
      ],
      "metadata": {
        "colab": {
          "base_uri": "https://localhost:8080/"
        },
        "id": "bBIQXeTr1s4n",
        "outputId": "a8f1ba34-8ab2-4c9d-cd36-c7191c11681f"
      },
      "execution_count": null,
      "outputs": [
        {
          "output_type": "stream",
          "name": "stdout",
          "text": [
            "[1.41421356 0.        ]\n",
            "[1.41421356e+00 7.07106781e-09]\n"
          ]
        }
      ]
    },
    {
      "cell_type": "markdown",
      "source": [
        "Видим, что при нахождении собственных чисел (замечу, что мы тоже не очень понимаем как numpy их ищет) происходит ошибка округления. А вот встроенная функция как-то обходит эту проблему, мы это подробнее обсудим во второй половине курса.\n",
        "\n",
        "Давайте посмотрим ещё, что происходит при плавном изменении $\\varepsilon$."
      ],
      "metadata": {
        "id": "eCKNxOYw9X62"
      }
    },
    {
      "cell_type": "code",
      "source": [
        "lambda_second = []\n",
        "svd_second = []\n",
        "\n",
        "for k in range(0,10):\n",
        "  A = np.array([[1,1],[0,10**(-k)]])\n",
        "  B = A.T @ A\n",
        "  lambdas = np.linalg.eigh(B)[0]\n",
        "  lambdas = np.sqrt(lambdas)\n",
        "  lambdas = np.sort(lambdas)[::-1]\n",
        "  lambda_second.append(lambdas[1])\n",
        "\n",
        "  U, s, V = np.linalg.svd(A)\n",
        "  svd_second.append(s[1])\n",
        "\n",
        "figure, axis = plt.subplots(1,2, sharey=True)\n",
        "axis[0].semilogy(svd_second)\n",
        "axis[1].semilogy(lambda_second)"
      ],
      "metadata": {
        "colab": {
          "base_uri": "https://localhost:8080/",
          "height": 284
        },
        "id": "zQY8CfL-45g6",
        "outputId": "aaf6833c-6e6b-48e2-ccbf-e2fd641962b1"
      },
      "execution_count": null,
      "outputs": [
        {
          "output_type": "execute_result",
          "data": {
            "text/plain": [
              "[<matplotlib.lines.Line2D at 0x7f1637335520>]"
            ]
          },
          "metadata": {},
          "execution_count": 5
        },
        {
          "output_type": "display_data",
          "data": {
            "text/plain": [
              "<Figure size 432x288 with 2 Axes>"
            ],
            "image/png": "[encoded data removed]"
          },
          "metadata": {
            "needs_background": "light"
          }
        }
      ]
    },
    {
      "cell_type": "markdown",
      "source": [
        "Видим, что начиная с достаточно малого $\\varepsilon$ внезапно точность пропадает.\n",
        "\n",
        "---"
      ],
      "metadata": {
        "id": "GisF0AGp-RwD"
      }
    },
    {
      "cell_type": "markdown",
      "source": [
        "$$\n",
        "\\begin{pmatrix}\n",
        "1/1 & 1/2 & 1/3 \\\\\n",
        "1/2 & 1/3 & 1/4 \\\\\n",
        "1/3 & 1/4 & 1/5\n",
        "\\end{pmatrix}\n",
        "$$"
      ],
      "metadata": {
        "id": "BKm9OSh_lGpt"
      }
    },
    {
      "cell_type": "markdown",
      "source": [
        "Рассмотрим матрицу Гильберта."
      ],
      "metadata": {
        "id": "sjGDU6sfengc"
      }
    },
    {
      "cell_type": "code",
      "source": [
        "m, n = 100, 100\n",
        "\n",
        "ii, jj = np.meshgrid(np.arange(m), np.arange(n))\n",
        "\n",
        "A = 1.0 / (ii + jj + 1)\n",
        "B = A.T @ A\n",
        "lambdas = np.linalg.eigh(B)[0]\n",
        "lambdas = np.abs(lambdas)\n",
        "lambdas = np.sqrt(lambdas)[::-1]\n",
        "\n",
        "U, s, V = np.linalg.svd(A)\n",
        "\n",
        "#print(lambdas)\n",
        "#print(s)\n",
        "\n",
        "figure, axis = plt.subplots(1,2, sharey=True)\n",
        "axis[0].semilogy(lambdas)\n",
        "axis[1].semilogy(s)"
      ],
      "metadata": {
        "colab": {
          "base_uri": "https://localhost:8080/",
          "height": 287
        },
        "id": "GoRNPy5Butx-",
        "outputId": "7447b9fc-aa2c-4e58-d093-21d2dcbeaa4c"
      },
      "execution_count": null,
      "outputs": [
        {
          "output_type": "execute_result",
          "data": {
            "text/plain": [
              "[<matplotlib.lines.Line2D at 0x7f1633f8d4f0>]"
            ]
          },
          "metadata": {},
          "execution_count": 10
        },
        {
          "output_type": "display_data",
          "data": {
            "text/plain": [
              "<Figure size 432x288 with 2 Axes>"
            ],
            "image/png": "[encoded data removed]"
          },
          "metadata": {
            "needs_background": "light"
          }
        }
      ]
    },
    {
      "cell_type": "markdown",
      "source": [
        "Кто прав? (слева -- корни из собственных чисел $A^T A$, справа -- сингулярные числа $A$, посчитанные через np.linalg.svd).\n",
        "\n",
        "Правда на правой картинке -- эти числа близки к нулю. А на картинке слева мы видим, что собственные числа примерно равны нулю, а дальше из них берётся корень -- и они от этого резко портятся. Так что эта красивая кривая никакого отношения к реальности, вероятно, не имеет, это просто корень из шума. Так что проблема этого подхода не только в <<возведении в квадрат>> (нахождении $A^T A$), но и, наоборот, взятии корня."
      ],
      "metadata": {
        "id": "jf1BvpZMBQas"
      }
    }
  ]
}